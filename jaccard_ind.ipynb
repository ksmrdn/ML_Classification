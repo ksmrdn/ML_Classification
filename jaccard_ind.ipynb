{
 "nbformat": 4,
 "nbformat_minor": 2,
 "metadata": {
  "language_info": {
   "name": "python",
   "codemirror_mode": {
    "name": "ipython",
    "version": 3
   },
   "version": "3.7.4-final"
  },
  "orig_nbformat": 2,
  "file_extension": ".py",
  "mimetype": "text/x-python",
  "name": "python",
  "npconvert_exporter": "python",
  "pygments_lexer": "ipython3",
  "version": 3,
  "kernelspec": {
   "name": "python37464bitbaseconda9ac5713aaf5d4281bcc09ff0bf5e12f1",
   "display_name": "Python 3.7.4 64-bit ('base': conda)"
  }
 },
 "cells": [
  {
   "cell_type": "markdown",
   "execution_count": 1,
   "metadata": {},
   "outputs": [
    {
     "ename": "SyntaxError",
     "evalue": "invalid syntax (<ipython-input-1-52fbc55090dc>, line 2)",
     "output_type": "error",
     "traceback": [
      "\u001b[1;36m  File \u001b[1;32m\"<ipython-input-1-52fbc55090dc>\"\u001b[1;36m, line \u001b[1;32m2\u001b[0m\n\u001b[1;33m    Jaccard Index $\\displaystyle J(y, y_p) = \\frac {| y \\cap y_p|} {| y \\cup y_p|} = \\frac {| y \\cap y_p|} {|y| + |y_p| - |y \\cap y_p|}$\u001b[0m\n\u001b[1;37m                ^\u001b[0m\n\u001b[1;31mSyntaxError\u001b[0m\u001b[1;31m:\u001b[0m invalid syntax\n"
     ]
    }
   ],
   "source": [
    "# Jaccard Index\n",
    "Jaccard Index $\\displaystyle J(y, y_p) = \\frac {| y \\cap y_p|} {| y \\cup y_p|} = \\frac {| y \\cap y_p|} {|y| + |y_p| - |y \\cap y_p|}$"
   ]
  },
  {
   "cell_type": "code",
   "execution_count": null,
   "metadata": {},
   "outputs": [
    {
     "ename": "Error",
     "evalue": "Jupyter notebook failed to launch. \r\nError: Jupyter server crashed. Unable to connect. \r\nError code from jupyter: 0\nFailed to run jupyter as observable with args notebook --no-browser --notebook-dir=C:\\Users\\asus\\AppData\\Local\\Temp\\3fcb69f9-70d4-4ee2-9984-c09abc03089e --config=C:\\Users\\asus\\AppData\\Local\\Temp\\3fcb69f9-70d4-4ee2-9984-c09abc03089e\\jupyter_notebook_config.py --NotebookApp.iopub_data_rate_limit=10000000000.0\n",
     "output_type": "error",
     "traceback": [
      "Error: Jupyter notebook failed to launch.",
      "Error: Jupyter server crashed. Unable to connect.",
      "Error code from jupyter: 0",
      "Failed to run jupyter as observable with args notebook --no-browser --notebook-dir=C:\\Users\\asus\\AppData\\Local\\Temp\\3fcb69f9-70d4-4ee2-9984-c09abc03089e --config=C:\\Users\\asus\\AppData\\Local\\Temp\\3fcb69f9-70d4-4ee2-9984-c09abc03089e\\jupyter_notebook_config.py --NotebookApp.iopub_data_rate_limit=10000000000.0",
      "at E.start (c:\\Users\\asus\\.vscode\\extensions\\ms-python.python-2020.2.64397\\out\\client\\extension.js:1:825656)"
     ]
    }
   ],
   "source": [
    "import pandas as pd\n",
    "import numpy as np"
   ]
  },
  {
   "cell_type": "code",
   "execution_count": 4,
   "metadata": {},
   "outputs": [],
   "source": [
    "y = np.array([1,1,1,0,1])\n",
    "yp = np.array([0,1,1,1,1])"
   ]
  },
  {
   "cell_type": "code",
   "execution_count": 5,
   "metadata": {},
   "outputs": [
    {
     "data": {
      "text/plain": "0.6"
     },
     "execution_count": 5,
     "metadata": {},
     "output_type": "execute_result"
    }
   ],
   "source": [
    "yn_yp = 3\n",
    "yu_yp = 5\n",
    "js = yn_yp/yu_yp\n",
    "js"
   ]
  },
  {
   "cell_type": "code",
   "execution_count": 6,
   "metadata": {},
   "outputs": [],
   "source": [
    "from sklearn.metrics import jaccard_score"
   ]
  },
  {
   "cell_type": "code",
   "execution_count": 8,
   "metadata": {},
   "outputs": [
    {
     "data": {
      "text/plain": "0.6"
     },
     "execution_count": 8,
     "metadata": {},
     "output_type": "execute_result"
    }
   ],
   "source": [
    "jaccard_score(yp, y)"
   ]
  },
  {
   "cell_type": "code",
   "execution_count": 9,
   "metadata": {},
   "outputs": [],
   "source": [
    "aa = np.array([1, 2, 3, 1, 2, 3])\n",
    "ap = np.array([1, 1, 2, 1, 3, 3])"
   ]
  },
  {
   "cell_type": "code",
   "execution_count": 10,
   "metadata": {},
   "outputs": [
    {
     "data": {
      "text/plain": "(0.6666666666666666, 0.0, 0.3333333333333333)"
     },
     "execution_count": 10,
     "metadata": {},
     "output_type": "execute_result"
    }
   ],
   "source": [
    "js_1 = 2/3\n",
    "js_2 = 0/3\n",
    "js_3 = 1/3\n",
    "js_1, js_2, js_3"
   ]
  },
  {
   "cell_type": "code",
   "execution_count": 11,
   "metadata": {},
   "outputs": [
    {
     "data": {
      "text/plain": "0.3333333333333333"
     },
     "execution_count": 11,
     "metadata": {},
     "output_type": "execute_result"
    }
   ],
   "source": [
    "js_avg = (js_1+js_2+js_3)/3\n",
    "js_avg"
   ]
  },
  {
   "cell_type": "code",
   "execution_count": 15,
   "metadata": {},
   "outputs": [
    {
     "name": "stdout",
     "output_type": "stream",
     "text": "0.3333333333333333\n0.3333333333333333\n0.3333333333333333\n"
    }
   ],
   "source": [
    "print(jaccard_score(ap,aa, average='macro'))\n",
    "print(jaccard_score(ap,aa, average='micro'))\n",
    "print(jaccard_score(aa,ap, average='weighted'))"
   ]
  },
  {
   "cell_type": "code",
   "execution_count": 13,
   "metadata": {},
   "outputs": [],
   "source": [
    "ba = np.array([0,1,2,3,0,1,2,3])\n",
    "bp = np.array([1,2,2,1,0,0,3,3])"
   ]
  },
  {
   "cell_type": "code",
   "execution_count": null,
   "metadata": {},
   "outputs": [],
   "source": [
    "js_1 = 1/"
   ]
  }
 ]
}
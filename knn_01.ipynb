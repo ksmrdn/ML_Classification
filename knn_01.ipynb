{
 "nbformat": 4,
 "nbformat_minor": 2,
 "metadata": {
  "language_info": {
   "name": "python",
   "codemirror_mode": {
    "name": "ipython",
    "version": 3
   },
   "version": "3.7.4-final"
  },
  "orig_nbformat": 2,
  "file_extension": ".py",
  "mimetype": "text/x-python",
  "name": "python",
  "npconvert_exporter": "python",
  "pygments_lexer": "ipython3",
  "version": 3,
  "kernelspec": {
   "name": "python37464bitprogramdatavirtualenv5af209da3c1944128ca22ac9d64920a1",
   "display_name": "Python 3.7.4 64-bit ('ProgramData': virtualenv)"
  }
 },
 "cells": [
  {
   "cell_type": "markdown",
   "execution_count": null,
   "metadata": {},
   "outputs": [],
   "source": [
    "# KKN\n",
    "## K-Nearest Neighbors\n",
    "\n",
    "- Klasifikasi suatu titik data, berdasarkan bagaimana titik-titik data di sekitarnya diklasifikasikan."
   ]
  },
  {
   "cell_type": "code",
   "execution_count": 41,
   "metadata": {},
   "outputs": [],
   "source": [
    "import pandas as pd\n",
    "import numpy as np\n",
    "import matplotlib.pyplot as plt\n",
    "from sklearn.neighbors import KNeighborsClassifier\n",
    "from sklearn.model_selection import train_test_split\n",
    "from sklearn.neighbors import NearestNeighbors\n",
    "from sklearn.metrics import classification_report\n",
    "from sklearn.datasets import load_iris"
   ]
  },
  {
   "cell_type": "code",
   "execution_count": 39,
   "metadata": {},
   "outputs": [
    {
     "data": {
      "text/plain": "['DESCR', 'data', 'feature_names', 'filename', 'target', 'target_names']"
     },
     "execution_count": 39,
     "metadata": {},
     "output_type": "execute_result"
    }
   ],
   "source": [
    "iris = load_iris()\n",
    "dir(iris)"
   ]
  },
  {
   "cell_type": "code",
   "execution_count": 5,
   "metadata": {},
   "outputs": [
    {
     "data": {
      "text/html": "<div>\n<style scoped>\n    .dataframe tbody tr th:only-of-type {\n        vertical-align: middle;\n    }\n\n    .dataframe tbody tr th {\n        vertical-align: top;\n    }\n\n    .dataframe thead th {\n        text-align: right;\n    }\n</style>\n<table border=\"1\" class=\"dataframe\">\n  <thead>\n    <tr style=\"text-align: right;\">\n      <th></th>\n      <th>SL</th>\n      <th>SW</th>\n      <th>PL</th>\n      <th>PW</th>\n      <th>target</th>\n    </tr>\n  </thead>\n  <tbody>\n    <tr>\n      <th>0</th>\n      <td>5.1</td>\n      <td>3.5</td>\n      <td>1.4</td>\n      <td>0.2</td>\n      <td>0</td>\n    </tr>\n    <tr>\n      <th>1</th>\n      <td>4.9</td>\n      <td>3.0</td>\n      <td>1.4</td>\n      <td>0.2</td>\n      <td>0</td>\n    </tr>\n    <tr>\n      <th>2</th>\n      <td>4.7</td>\n      <td>3.2</td>\n      <td>1.3</td>\n      <td>0.2</td>\n      <td>0</td>\n    </tr>\n    <tr>\n      <th>3</th>\n      <td>4.6</td>\n      <td>3.1</td>\n      <td>1.5</td>\n      <td>0.2</td>\n      <td>0</td>\n    </tr>\n    <tr>\n      <th>4</th>\n      <td>5.0</td>\n      <td>3.6</td>\n      <td>1.4</td>\n      <td>0.2</td>\n      <td>0</td>\n    </tr>\n    <tr>\n      <th>...</th>\n      <td>...</td>\n      <td>...</td>\n      <td>...</td>\n      <td>...</td>\n      <td>...</td>\n    </tr>\n    <tr>\n      <th>145</th>\n      <td>6.7</td>\n      <td>3.0</td>\n      <td>5.2</td>\n      <td>2.3</td>\n      <td>2</td>\n    </tr>\n    <tr>\n      <th>146</th>\n      <td>6.3</td>\n      <td>2.5</td>\n      <td>5.0</td>\n      <td>1.9</td>\n      <td>2</td>\n    </tr>\n    <tr>\n      <th>147</th>\n      <td>6.5</td>\n      <td>3.0</td>\n      <td>5.2</td>\n      <td>2.0</td>\n      <td>2</td>\n    </tr>\n    <tr>\n      <th>148</th>\n      <td>6.2</td>\n      <td>3.4</td>\n      <td>5.4</td>\n      <td>2.3</td>\n      <td>2</td>\n    </tr>\n    <tr>\n      <th>149</th>\n      <td>5.9</td>\n      <td>3.0</td>\n      <td>5.1</td>\n      <td>1.8</td>\n      <td>2</td>\n    </tr>\n  </tbody>\n</table>\n<p>150 rows × 5 columns</p>\n</div>",
      "text/plain": "      SL   SW   PL   PW  target\n0    5.1  3.5  1.4  0.2       0\n1    4.9  3.0  1.4  0.2       0\n2    4.7  3.2  1.3  0.2       0\n3    4.6  3.1  1.5  0.2       0\n4    5.0  3.6  1.4  0.2       0\n..   ...  ...  ...  ...     ...\n145  6.7  3.0  5.2  2.3       2\n146  6.3  2.5  5.0  1.9       2\n147  6.5  3.0  5.2  2.0       2\n148  6.2  3.4  5.4  2.3       2\n149  5.9  3.0  5.1  1.8       2\n\n[150 rows x 5 columns]"
     },
     "execution_count": 5,
     "metadata": {},
     "output_type": "execute_result"
    }
   ],
   "source": [
    "df = pd.DataFrame(iris['data'], columns=['SL','SW','PL','PW'])\n",
    "df['target'] = iris['target']\n",
    "df"
   ]
  },
  {
   "cell_type": "code",
   "execution_count": 10,
   "metadata": {},
   "outputs": [
    {
     "data": {
      "text/plain": "[<matplotlib.lines.Line2D at 0x25e75a0a488>]"
     },
     "execution_count": 10,
     "metadata": {},
     "output_type": "execute_result"
    },
    {
     "data": {
      "image/png": "[encoded data removed]",
      "image/svg+xml": "<?xml version=\"1.0\" encoding=\"utf-8\" standalone=\"no\"?>\r\n<!DOCTYPE svg PUBLIC \"-//W3C//DTD SVG 1.1//EN\"\r\n  \"http://www.w3.org/Graphics/SVG/1.1/DTD/svg11.dtd\">\r\n<!-- Created with matplotlib (https://matplotlib.org/) -->\r\n<svg height=\"250.670071pt\" version=\"1.1\" viewBox=\"0 0 372.103125 250.670071\" width=\"372.103125pt\" xmlns=\"http://www.w3.org/2000/svg\" xmlns:xlink=\"http://www.w3.org/1999/xlink\">\r\n <defs>\r\n  <style type=\"text/css\">\r\n*{stroke-linecap:butt;stroke-linejoin:round;}\r\n  </style>\r\n </defs>\r\n <g id=\"figure_1\">\r\n  <g id=\"patch_1\">\r\n   <path d=\"M 0 250.670071 \r\nL 372.103125 250.670071 \r\nL 372.103125 0 \r\nL 0 0 \r\nz\r\n\" style=\"fill:none;\"/>\r\n  </g>\r\n  <g id=\"axes_1\">\r\n   <g id=\"patch_2\">\r\n    <path d=\"M 30.103125 226.791946 \r\nL 182.284943 226.791946 \r\nL 182.284943 9.351946 \r\nL 30.103125 9.351946 \r\nz\r\n\" style=\"fill:#ffffff;\"/>\r\n   </g>\r\n   <g id=\"matplotlib.axis_1\">\r\n    <g id=\"xtick_1\">\r\n     <g id=\"line2d_1\">\r\n      <defs>\r\n       <path d=\"M 0 0 \r\nL 0 3.5 \r\n\" id=\"m64054da5e6\" style=\"stroke:#000000;stroke-width:0.8;\"/>\r\n      </defs>\r\n      <g>\r\n       <use style=\"stroke:#000000;stroke-width:0.8;\" x=\"63.921307\" xlink:href=\"#m64054da5e6\" y=\"226.791946\"/>\r\n      </g>\r\n     </g>\r\n     <g id=\"text_1\">\r\n      <!-- 5 -->\r\n      <defs>\r\n       <path d=\"M 10.796875 72.90625 \r\nL 49.515625 72.90625 \r\nL 49.515625 64.59375 \r\nL 19.828125 64.59375 \r\nL 19.828125 46.734375 \r\nQ 21.96875 47.46875 24.109375 47.828125 \r\nQ 26.265625 48.1875 28.421875 48.1875 \r\nQ 40.625 48.1875 47.75 41.5 \r\nQ 54.890625 34.8125 54.890625 23.390625 \r\nQ 54.890625 11.625 47.5625 5.09375 \r\nQ 40.234375 -1.421875 26.90625 -1.421875 \r\nQ 22.3125 -1.421875 17.546875 -0.640625 \r\nQ 12.796875 0.140625 7.71875 1.703125 \r\nL 7.71875 11.625 \r\nQ 12.109375 9.234375 16.796875 8.0625 \r\nQ 21.484375 6.890625 26.703125 6.890625 \r\nQ 35.15625 6.890625 40.078125 11.328125 \r\nQ 45.015625 15.765625 45.015625 23.390625 \r\nQ 45.015625 31 40.078125 35.4375 \r\nQ 35.15625 39.890625 26.703125 39.890625 \r\nQ 22.75 39.890625 18.8125 39.015625 \r\nQ 14.890625 38.140625 10.796875 36.28125 \r\nz\r\n\" id=\"DejaVuSans-53\"/>\r\n      </defs>\r\n      <g transform=\"translate(60.740057 241.390384)scale(0.1 -0.1)\">\r\n       <use xlink:href=\"#DejaVuSans-53\"/>\r\n      </g>\r\n     </g>\r\n    </g>\r\n    <g id=\"xtick_2\">\r\n     <g id=\"line2d_2\">\r\n      <g>\r\n       <use style=\"stroke:#000000;stroke-width:0.8;\" x=\"102.351059\" xlink:href=\"#m64054da5e6\" y=\"226.791946\"/>\r\n      </g>\r\n     </g>\r\n     <g id=\"text_2\">\r\n      <!-- 6 -->\r\n      <defs>\r\n       <path d=\"M 33.015625 40.375 \r\nQ 26.375 40.375 22.484375 35.828125 \r\nQ 18.609375 31.296875 18.609375 23.390625 \r\nQ 18.609375 15.53125 22.484375 10.953125 \r\nQ 26.375 6.390625 33.015625 6.390625 \r\nQ 39.65625 6.390625 43.53125 10.953125 \r\nQ 47.40625 15.53125 47.40625 23.390625 \r\nQ 47.40625 31.296875 43.53125 35.828125 \r\nQ 39.65625 40.375 33.015625 40.375 \r\nz\r\nM 52.59375 71.296875 \r\nL 52.59375 62.3125 \r\nQ 48.875 64.0625 45.09375 64.984375 \r\nQ 41.3125 65.921875 37.59375 65.921875 \r\nQ 27.828125 65.921875 22.671875 59.328125 \r\nQ 17.53125 52.734375 16.796875 39.40625 \r\nQ 19.671875 43.65625 24.015625 45.921875 \r\nQ 28.375 48.1875 33.59375 48.1875 \r\nQ 44.578125 48.1875 50.953125 41.515625 \r\nQ 57.328125 34.859375 57.328125 23.390625 \r\nQ 57.328125 12.15625 50.6875 5.359375 \r\nQ 44.046875 -1.421875 33.015625 -1.421875 \r\nQ 20.359375 -1.421875 13.671875 8.265625 \r\nQ 6.984375 17.96875 6.984375 36.375 \r\nQ 6.984375 53.65625 15.1875 63.9375 \r\nQ 23.390625 74.21875 37.203125 74.21875 \r\nQ 40.921875 74.21875 44.703125 73.484375 \r\nQ 48.484375 72.75 52.59375 71.296875 \r\nz\r\n\" id=\"DejaVuSans-54\"/>\r\n      </defs>\r\n      <g transform=\"translate(99.169809 241.390384)scale(0.1 -0.1)\">\r\n       <use xlink:href=\"#DejaVuSans-54\"/>\r\n      </g>\r\n     </g>\r\n    </g>\r\n    <g id=\"xtick_3\">\r\n     <g id=\"line2d_3\">\r\n      <g>\r\n       <use style=\"stroke:#000000;stroke-width:0.8;\" x=\"140.780811\" xlink:href=\"#m64054da5e6\" y=\"226.791946\"/>\r\n      </g>\r\n     </g>\r\n     <g id=\"text_3\">\r\n      <!-- 7 -->\r\n      <defs>\r\n       <path d=\"M 8.203125 72.90625 \r\nL 55.078125 72.90625 \r\nL 55.078125 68.703125 \r\nL 28.609375 0 \r\nL 18.3125 0 \r\nL 43.21875 64.59375 \r\nL 8.203125 64.59375 \r\nz\r\n\" id=\"DejaVuSans-55\"/>\r\n      </defs>\r\n      <g transform=\"translate(137.599561 241.390384)scale(0.1 -0.1)\">\r\n       <use xlink:href=\"#DejaVuSans-55\"/>\r\n      </g>\r\n     </g>\r\n    </g>\r\n    <g id=\"xtick_4\">\r\n     <g id=\"line2d_4\">\r\n      <g>\r\n       <use style=\"stroke:#000000;stroke-width:0.8;\" x=\"179.210563\" xlink:href=\"#m64054da5e6\" y=\"226.791946\"/>\r\n      </g>\r\n     </g>\r\n     <g id=\"text_4\">\r\n      <!-- 8 -->\r\n      <defs>\r\n       <path d=\"M 31.78125 34.625 \r\nQ 24.75 34.625 20.71875 30.859375 \r\nQ 16.703125 27.09375 16.703125 20.515625 \r\nQ 16.703125 13.921875 20.71875 10.15625 \r\nQ 24.75 6.390625 31.78125 6.390625 \r\nQ 38.8125 6.390625 42.859375 10.171875 \r\nQ 46.921875 13.96875 46.921875 20.515625 \r\nQ 46.921875 27.09375 42.890625 30.859375 \r\nQ 38.875 34.625 31.78125 34.625 \r\nz\r\nM 21.921875 38.8125 \r\nQ 15.578125 40.375 12.03125 44.71875 \r\nQ 8.5 49.078125 8.5 55.328125 \r\nQ 8.5 64.0625 14.71875 69.140625 \r\nQ 20.953125 74.21875 31.78125 74.21875 \r\nQ 42.671875 74.21875 48.875 69.140625 \r\nQ 55.078125 64.0625 55.078125 55.328125 \r\nQ 55.078125 49.078125 51.53125 44.71875 \r\nQ 48 40.375 41.703125 38.8125 \r\nQ 48.828125 37.15625 52.796875 32.3125 \r\nQ 56.78125 27.484375 56.78125 20.515625 \r\nQ 56.78125 9.90625 50.3125 4.234375 \r\nQ 43.84375 -1.421875 31.78125 -1.421875 \r\nQ 19.734375 -1.421875 13.25 4.234375 \r\nQ 6.78125 9.90625 6.78125 20.515625 \r\nQ 6.78125 27.484375 10.78125 32.3125 \r\nQ 14.796875 37.15625 21.921875 38.8125 \r\nz\r\nM 18.3125 54.390625 \r\nQ 18.3125 48.734375 21.84375 45.5625 \r\nQ 25.390625 42.390625 31.78125 42.390625 \r\nQ 38.140625 42.390625 41.71875 45.5625 \r\nQ 45.3125 48.734375 45.3125 54.390625 \r\nQ 45.3125 60.0625 41.71875 63.234375 \r\nQ 38.140625 66.40625 31.78125 66.40625 \r\nQ 25.390625 66.40625 21.84375 63.234375 \r\nQ 18.3125 60.0625 18.3125 54.390625 \r\nz\r\n\" id=\"DejaVuSans-56\"/>\r\n      </defs>\r\n      <g transform=\"translate(176.029313 241.390384)scale(0.1 -0.1)\">\r\n       <use xlink:href=\"#DejaVuSans-56\"/>\r\n      </g>\r\n     </g>\r\n    </g>\r\n   </g>\r\n   <g id=\"matplotlib.axis_2\">\r\n    <g id=\"ytick_1\">\r\n     <g id=\"line2d_5\">\r\n      <defs>\r\n       <path d=\"M 0 0 \r\nL -3.5 0 \r\n\" id=\"m3b0d1eb97f\" style=\"stroke:#000000;stroke-width:0.8;\"/>\r\n      </defs>\r\n      <g>\r\n       <use style=\"stroke:#000000;stroke-width:0.8;\" x=\"30.103125\" xlink:href=\"#m3b0d1eb97f\" y=\"216.90831\"/>\r\n      </g>\r\n     </g>\r\n     <g id=\"text_5\">\r\n      <!-- 2.0 -->\r\n      <defs>\r\n       <path d=\"M 19.1875 8.296875 \r\nL 53.609375 8.296875 \r\nL 53.609375 0 \r\nL 7.328125 0 \r\nL 7.328125 8.296875 \r\nQ 12.9375 14.109375 22.625 23.890625 \r\nQ 32.328125 33.6875 34.8125 36.53125 \r\nQ 39.546875 41.84375 41.421875 45.53125 \r\nQ 43.3125 49.21875 43.3125 52.78125 \r\nQ 43.3125 58.59375 39.234375 62.25 \r\nQ 35.15625 65.921875 28.609375 65.921875 \r\nQ 23.96875 65.921875 18.8125 64.3125 \r\nQ 13.671875 62.703125 7.8125 59.421875 \r\nL 7.8125 69.390625 \r\nQ 13.765625 71.78125 18.9375 73 \r\nQ 24.125 74.21875 28.421875 74.21875 \r\nQ 39.75 74.21875 46.484375 68.546875 \r\nQ 53.21875 62.890625 53.21875 53.421875 \r\nQ 53.21875 48.921875 51.53125 44.890625 \r\nQ 49.859375 40.875 45.40625 35.40625 \r\nQ 44.1875 33.984375 37.640625 27.21875 \r\nQ 31.109375 20.453125 19.1875 8.296875 \r\nz\r\n\" id=\"DejaVuSans-50\"/>\r\n       <path d=\"M 10.6875 12.40625 \r\nL 21 12.40625 \r\nL 21 0 \r\nL 10.6875 0 \r\nz\r\n\" id=\"DejaVuSans-46\"/>\r\n       <path d=\"M 31.78125 66.40625 \r\nQ 24.171875 66.40625 20.328125 58.90625 \r\nQ 16.5 51.421875 16.5 36.375 \r\nQ 16.5 21.390625 20.328125 13.890625 \r\nQ 24.171875 6.390625 31.78125 6.390625 \r\nQ 39.453125 6.390625 43.28125 13.890625 \r\nQ 47.125 21.390625 47.125 36.375 \r\nQ 47.125 51.421875 43.28125 58.90625 \r\nQ 39.453125 66.40625 31.78125 66.40625 \r\nz\r\nM 31.78125 74.21875 \r\nQ 44.046875 74.21875 50.515625 64.515625 \r\nQ 56.984375 54.828125 56.984375 36.375 \r\nQ 56.984375 17.96875 50.515625 8.265625 \r\nQ 44.046875 -1.421875 31.78125 -1.421875 \r\nQ 19.53125 -1.421875 13.0625 8.265625 \r\nQ 6.59375 17.96875 6.59375 36.375 \r\nQ 6.59375 54.828125 13.0625 64.515625 \r\nQ 19.53125 74.21875 31.78125 74.21875 \r\nz\r\n\" id=\"DejaVuSans-48\"/>\r\n      </defs>\r\n      <g transform=\"translate(7.2 220.707528)scale(0.1 -0.1)\">\r\n       <use xlink:href=\"#DejaVuSans-50\"/>\r\n       <use x=\"63.623047\" xlink:href=\"#DejaVuSans-46\"/>\r\n       <use x=\"95.410156\" xlink:href=\"#DejaVuSans-48\"/>\r\n      </g>\r\n     </g>\r\n    </g>\r\n    <g id=\"ytick_2\">\r\n     <g id=\"line2d_6\">\r\n      <g>\r\n       <use style=\"stroke:#000000;stroke-width:0.8;\" x=\"30.103125\" xlink:href=\"#m3b0d1eb97f\" y=\"175.726491\"/>\r\n      </g>\r\n     </g>\r\n     <g id=\"text_6\">\r\n      <!-- 2.5 -->\r\n      <g transform=\"translate(7.2 179.52571)scale(0.1 -0.1)\">\r\n       <use xlink:href=\"#DejaVuSans-50\"/>\r\n       <use x=\"63.623047\" xlink:href=\"#DejaVuSans-46\"/>\r\n       <use x=\"95.410156\" xlink:href=\"#DejaVuSans-53\"/>\r\n      </g>\r\n     </g>\r\n    </g>\r\n    <g id=\"ytick_3\">\r\n     <g id=\"line2d_7\">\r\n      <g>\r\n       <use style=\"stroke:#000000;stroke-width:0.8;\" x=\"30.103125\" xlink:href=\"#m3b0d1eb97f\" y=\"134.544673\"/>\r\n      </g>\r\n     </g>\r\n     <g id=\"text_7\">\r\n      <!-- 3.0 -->\r\n      <defs>\r\n       <path d=\"M 40.578125 39.3125 \r\nQ 47.65625 37.796875 51.625 33 \r\nQ 55.609375 28.21875 55.609375 21.1875 \r\nQ 55.609375 10.40625 48.1875 4.484375 \r\nQ 40.765625 -1.421875 27.09375 -1.421875 \r\nQ 22.515625 -1.421875 17.65625 -0.515625 \r\nQ 12.796875 0.390625 7.625 2.203125 \r\nL 7.625 11.71875 \r\nQ 11.71875 9.328125 16.59375 8.109375 \r\nQ 21.484375 6.890625 26.8125 6.890625 \r\nQ 36.078125 6.890625 40.9375 10.546875 \r\nQ 45.796875 14.203125 45.796875 21.1875 \r\nQ 45.796875 27.640625 41.28125 31.265625 \r\nQ 36.765625 34.90625 28.71875 34.90625 \r\nL 20.21875 34.90625 \r\nL 20.21875 43.015625 \r\nL 29.109375 43.015625 \r\nQ 36.375 43.015625 40.234375 45.921875 \r\nQ 44.09375 48.828125 44.09375 54.296875 \r\nQ 44.09375 59.90625 40.109375 62.90625 \r\nQ 36.140625 65.921875 28.71875 65.921875 \r\nQ 24.65625 65.921875 20.015625 65.03125 \r\nQ 15.375 64.15625 9.8125 62.3125 \r\nL 9.8125 71.09375 \r\nQ 15.4375 72.65625 20.34375 73.4375 \r\nQ 25.25 74.21875 29.59375 74.21875 \r\nQ 40.828125 74.21875 47.359375 69.109375 \r\nQ 53.90625 64.015625 53.90625 55.328125 \r\nQ 53.90625 49.265625 50.4375 45.09375 \r\nQ 46.96875 40.921875 40.578125 39.3125 \r\nz\r\n\" id=\"DejaVuSans-51\"/>\r\n      </defs>\r\n      <g transform=\"translate(7.2 138.343892)scale(0.1 -0.1)\">\r\n       <use xlink:href=\"#DejaVuSans-51\"/>\r\n       <use x=\"63.623047\" xlink:href=\"#DejaVuSans-46\"/>\r\n       <use x=\"95.410156\" xlink:href=\"#DejaVuSans-48\"/>\r\n      </g>\r\n     </g>\r\n    </g>\r\n    <g id=\"ytick_4\">\r\n     <g id=\"line2d_8\">\r\n      <g>\r\n       <use style=\"stroke:#000000;stroke-width:0.8;\" x=\"30.103125\" xlink:href=\"#m3b0d1eb97f\" y=\"93.362855\"/>\r\n      </g>\r\n     </g>\r\n     <g id=\"text_8\">\r\n      <!-- 3.5 -->\r\n      <g transform=\"translate(7.2 97.162074)scale(0.1 -0.1)\">\r\n       <use xlink:href=\"#DejaVuSans-51\"/>\r\n       <use x=\"63.623047\" xlink:href=\"#DejaVuSans-46\"/>\r\n       <use x=\"95.410156\" xlink:href=\"#DejaVuSans-53\"/>\r\n      </g>\r\n     </g>\r\n    </g>\r\n    <g id=\"ytick_5\">\r\n     <g id=\"line2d_9\">\r\n      <g>\r\n       <use style=\"stroke:#000000;stroke-width:0.8;\" x=\"30.103125\" xlink:href=\"#m3b0d1eb97f\" y=\"52.181037\"/>\r\n      </g>\r\n     </g>\r\n     <g id=\"text_9\">\r\n      <!-- 4.0 -->\r\n      <defs>\r\n       <path d=\"M 37.796875 64.3125 \r\nL 12.890625 25.390625 \r\nL 37.796875 25.390625 \r\nz\r\nM 35.203125 72.90625 \r\nL 47.609375 72.90625 \r\nL 47.609375 25.390625 \r\nL 58.015625 25.390625 \r\nL 58.015625 17.1875 \r\nL 47.609375 17.1875 \r\nL 47.609375 0 \r\nL 37.796875 0 \r\nL 37.796875 17.1875 \r\nL 4.890625 17.1875 \r\nL 4.890625 26.703125 \r\nz\r\n\" id=\"DejaVuSans-52\"/>\r\n      </defs>\r\n      <g transform=\"translate(7.2 55.980256)scale(0.1 -0.1)\">\r\n       <use xlink:href=\"#DejaVuSans-52\"/>\r\n       <use x=\"63.623047\" xlink:href=\"#DejaVuSans-46\"/>\r\n       <use x=\"95.410156\" xlink:href=\"#DejaVuSans-48\"/>\r\n      </g>\r\n     </g>\r\n    </g>\r\n    <g id=\"ytick_6\">\r\n     <g id=\"line2d_10\">\r\n      <g>\r\n       <use style=\"stroke:#000000;stroke-width:0.8;\" x=\"30.103125\" xlink:href=\"#m3b0d1eb97f\" y=\"10.999219\"/>\r\n      </g>\r\n     </g>\r\n     <g id=\"text_10\">\r\n      <!-- 4.5 -->\r\n      <g transform=\"translate(7.2 14.798437)scale(0.1 -0.1)\">\r\n       <use xlink:href=\"#DejaVuSans-52\"/>\r\n       <use x=\"63.623047\" xlink:href=\"#DejaVuSans-46\"/>\r\n       <use x=\"95.410156\" xlink:href=\"#DejaVuSans-53\"/>\r\n      </g>\r\n     </g>\r\n    </g>\r\n   </g>\r\n   <g id=\"line2d_11\">\r\n    <defs>\r\n     <path d=\"M 0 3 \r\nC 0.795609 3 1.55874 2.683901 2.12132 2.12132 \r\nC 2.683901 1.55874 3 0.795609 3 0 \r\nC 3 -0.795609 2.683901 -1.55874 2.12132 -2.12132 \r\nC 1.55874 -2.683901 0.795609 -3 0 -3 \r\nC -0.795609 -3 -1.55874 -2.683901 -2.12132 -2.12132 \r\nC -2.683901 -1.55874 -3 -0.795609 -3 0 \r\nC -3 0.795609 -2.683901 1.55874 -2.12132 2.12132 \r\nC -1.55874 2.683901 -0.795609 3 0 3 \r\nz\r\n\" id=\"m775bfdea34\" style=\"stroke:#ff0000;\"/>\r\n    </defs>\r\n    <g clip-path=\"url(#p959994d1b4)\">\r\n     <use style=\"fill:#ff0000;stroke:#ff0000;\" x=\"67.764282\" xlink:href=\"#m775bfdea34\" y=\"93.362855\"/>\r\n     <use style=\"fill:#ff0000;stroke:#ff0000;\" x=\"60.078332\" xlink:href=\"#m775bfdea34\" y=\"134.544673\"/>\r\n     <use style=\"fill:#ff0000;stroke:#ff0000;\" x=\"52.392381\" xlink:href=\"#m775bfdea34\" y=\"118.071946\"/>\r\n     <use style=\"fill:#ff0000;stroke:#ff0000;\" x=\"48.549406\" xlink:href=\"#m775bfdea34\" y=\"126.30831\"/>\r\n     <use style=\"fill:#ff0000;stroke:#ff0000;\" x=\"63.921307\" xlink:href=\"#m775bfdea34\" y=\"85.126491\"/>\r\n     <use style=\"fill:#ff0000;stroke:#ff0000;\" x=\"79.293208\" xlink:href=\"#m775bfdea34\" y=\"60.417401\"/>\r\n     <use style=\"fill:#ff0000;stroke:#ff0000;\" x=\"48.549406\" xlink:href=\"#m775bfdea34\" y=\"101.599219\"/>\r\n     <use style=\"fill:#ff0000;stroke:#ff0000;\" x=\"63.921307\" xlink:href=\"#m775bfdea34\" y=\"101.599219\"/>\r\n     <use style=\"fill:#ff0000;stroke:#ff0000;\" x=\"40.863456\" xlink:href=\"#m775bfdea34\" y=\"142.781037\"/>\r\n     <use style=\"fill:#ff0000;stroke:#ff0000;\" x=\"60.078332\" xlink:href=\"#m775bfdea34\" y=\"126.30831\"/>\r\n     <use style=\"fill:#ff0000;stroke:#ff0000;\" x=\"79.293208\" xlink:href=\"#m775bfdea34\" y=\"76.890128\"/>\r\n     <use style=\"fill:#ff0000;stroke:#ff0000;\" x=\"56.235356\" xlink:href=\"#m775bfdea34\" y=\"101.599219\"/>\r\n     <use style=\"fill:#ff0000;stroke:#ff0000;\" x=\"56.235356\" xlink:href=\"#m775bfdea34\" y=\"134.544673\"/>\r\n     <use style=\"fill:#ff0000;stroke:#ff0000;\" x=\"37.02048\" xlink:href=\"#m775bfdea34\" y=\"134.544673\"/>\r\n     <use style=\"fill:#ff0000;stroke:#ff0000;\" x=\"94.665108\" xlink:href=\"#m775bfdea34\" y=\"52.181037\"/>\r\n     <use style=\"fill:#ff0000;stroke:#ff0000;\" x=\"90.822133\" xlink:href=\"#m775bfdea34\" y=\"19.235582\"/>\r\n     <use style=\"fill:#ff0000;stroke:#ff0000;\" x=\"79.293208\" xlink:href=\"#m775bfdea34\" y=\"60.417401\"/>\r\n     <use style=\"fill:#ff0000;stroke:#ff0000;\" x=\"67.764282\" xlink:href=\"#m775bfdea34\" y=\"93.362855\"/>\r\n     <use style=\"fill:#ff0000;stroke:#ff0000;\" x=\"90.822133\" xlink:href=\"#m775bfdea34\" y=\"68.653764\"/>\r\n     <use style=\"fill:#ff0000;stroke:#ff0000;\" x=\"67.764282\" xlink:href=\"#m775bfdea34\" y=\"68.653764\"/>\r\n     <use style=\"fill:#ff0000;stroke:#ff0000;\" x=\"79.293208\" xlink:href=\"#m775bfdea34\" y=\"101.599219\"/>\r\n     <use style=\"fill:#ff0000;stroke:#ff0000;\" x=\"67.764282\" xlink:href=\"#m775bfdea34\" y=\"76.890128\"/>\r\n     <use style=\"fill:#ff0000;stroke:#ff0000;\" x=\"48.549406\" xlink:href=\"#m775bfdea34\" y=\"85.126491\"/>\r\n     <use style=\"fill:#ff0000;stroke:#ff0000;\" x=\"67.764282\" xlink:href=\"#m775bfdea34\" y=\"109.835582\"/>\r\n     <use style=\"fill:#ff0000;stroke:#ff0000;\" x=\"56.235356\" xlink:href=\"#m775bfdea34\" y=\"101.599219\"/>\r\n     <use style=\"fill:#ff0000;stroke:#ff0000;\" x=\"63.921307\" xlink:href=\"#m775bfdea34\" y=\"134.544673\"/>\r\n     <use style=\"fill:#ff0000;stroke:#ff0000;\" x=\"63.921307\" xlink:href=\"#m775bfdea34\" y=\"101.599219\"/>\r\n     <use style=\"fill:#ff0000;stroke:#ff0000;\" x=\"71.607257\" xlink:href=\"#m775bfdea34\" y=\"93.362855\"/>\r\n     <use style=\"fill:#ff0000;stroke:#ff0000;\" x=\"71.607257\" xlink:href=\"#m775bfdea34\" y=\"101.599219\"/>\r\n     <use style=\"fill:#ff0000;stroke:#ff0000;\" x=\"52.392381\" xlink:href=\"#m775bfdea34\" y=\"118.071946\"/>\r\n     <use style=\"fill:#ff0000;stroke:#ff0000;\" x=\"56.235356\" xlink:href=\"#m775bfdea34\" y=\"126.30831\"/>\r\n     <use style=\"fill:#ff0000;stroke:#ff0000;\" x=\"79.293208\" xlink:href=\"#m775bfdea34\" y=\"101.599219\"/>\r\n     <use style=\"fill:#ff0000;stroke:#ff0000;\" x=\"71.607257\" xlink:href=\"#m775bfdea34\" y=\"43.944673\"/>\r\n     <use style=\"fill:#ff0000;stroke:#ff0000;\" x=\"83.136183\" xlink:href=\"#m775bfdea34\" y=\"35.70831\"/>\r\n     <use style=\"fill:#ff0000;stroke:#ff0000;\" x=\"60.078332\" xlink:href=\"#m775bfdea34\" y=\"126.30831\"/>\r\n     <use style=\"fill:#ff0000;stroke:#ff0000;\" x=\"63.921307\" xlink:href=\"#m775bfdea34\" y=\"118.071946\"/>\r\n     <use style=\"fill:#ff0000;stroke:#ff0000;\" x=\"83.136183\" xlink:href=\"#m775bfdea34\" y=\"93.362855\"/>\r\n     <use style=\"fill:#ff0000;stroke:#ff0000;\" x=\"60.078332\" xlink:href=\"#m775bfdea34\" y=\"85.126491\"/>\r\n     <use style=\"fill:#ff0000;stroke:#ff0000;\" x=\"40.863456\" xlink:href=\"#m775bfdea34\" y=\"134.544673\"/>\r\n     <use style=\"fill:#ff0000;stroke:#ff0000;\" x=\"67.764282\" xlink:href=\"#m775bfdea34\" y=\"101.599219\"/>\r\n     <use style=\"fill:#ff0000;stroke:#ff0000;\" x=\"63.921307\" xlink:href=\"#m775bfdea34\" y=\"93.362855\"/>\r\n     <use style=\"fill:#ff0000;stroke:#ff0000;\" x=\"44.706431\" xlink:href=\"#m775bfdea34\" y=\"192.199219\"/>\r\n     <use style=\"fill:#ff0000;stroke:#ff0000;\" x=\"40.863456\" xlink:href=\"#m775bfdea34\" y=\"118.071946\"/>\r\n     <use style=\"fill:#ff0000;stroke:#ff0000;\" x=\"63.921307\" xlink:href=\"#m775bfdea34\" y=\"93.362855\"/>\r\n     <use style=\"fill:#ff0000;stroke:#ff0000;\" x=\"67.764282\" xlink:href=\"#m775bfdea34\" y=\"68.653764\"/>\r\n     <use style=\"fill:#ff0000;stroke:#ff0000;\" x=\"56.235356\" xlink:href=\"#m775bfdea34\" y=\"134.544673\"/>\r\n     <use style=\"fill:#ff0000;stroke:#ff0000;\" x=\"67.764282\" xlink:href=\"#m775bfdea34\" y=\"68.653764\"/>\r\n     <use style=\"fill:#ff0000;stroke:#ff0000;\" x=\"48.549406\" xlink:href=\"#m775bfdea34\" y=\"118.071946\"/>\r\n     <use style=\"fill:#ff0000;stroke:#ff0000;\" x=\"75.450232\" xlink:href=\"#m775bfdea34\" y=\"76.890128\"/>\r\n     <use style=\"fill:#ff0000;stroke:#ff0000;\" x=\"63.921307\" xlink:href=\"#m775bfdea34\" y=\"109.835582\"/>\r\n    </g>\r\n   </g>\r\n   <g id=\"line2d_12\">\r\n    <defs>\r\n     <path d=\"M 0 3 \r\nC 0.795609 3 1.55874 2.683901 2.12132 2.12132 \r\nC 2.683901 1.55874 3 0.795609 3 0 \r\nC 3 -0.795609 2.683901 -1.55874 2.12132 -2.12132 \r\nC 1.55874 -2.683901 0.795609 -3 0 -3 \r\nC -0.795609 -3 -1.55874 -2.683901 -2.12132 -2.12132 \r\nC -2.683901 -1.55874 -3 -0.795609 -3 0 \r\nC -3 0.795609 -2.683901 1.55874 -2.12132 2.12132 \r\nC -1.55874 2.683901 -0.795609 3 0 3 \r\nz\r\n\" id=\"m1983ee36bf\" style=\"stroke:#008000;\"/>\r\n    </defs>\r\n    <g clip-path=\"url(#p959994d1b4)\">\r\n     <use style=\"fill:#008000;stroke:#008000;\" x=\"140.780811\" xlink:href=\"#m1983ee36bf\" y=\"118.071946\"/>\r\n     <use style=\"fill:#008000;stroke:#008000;\" x=\"117.72296\" xlink:href=\"#m1983ee36bf\" y=\"118.071946\"/>\r\n     <use style=\"fill:#008000;stroke:#008000;\" x=\"136.937836\" xlink:href=\"#m1983ee36bf\" y=\"126.30831\"/>\r\n     <use style=\"fill:#008000;stroke:#008000;\" x=\"83.136183\" xlink:href=\"#m1983ee36bf\" y=\"192.199219\"/>\r\n     <use style=\"fill:#008000;stroke:#008000;\" x=\"121.565935\" xlink:href=\"#m1983ee36bf\" y=\"151.017401\"/>\r\n     <use style=\"fill:#008000;stroke:#008000;\" x=\"90.822133\" xlink:href=\"#m1983ee36bf\" y=\"151.017401\"/>\r\n     <use style=\"fill:#008000;stroke:#008000;\" x=\"113.879985\" xlink:href=\"#m1983ee36bf\" y=\"109.835582\"/>\r\n     <use style=\"fill:#008000;stroke:#008000;\" x=\"60.078332\" xlink:href=\"#m1983ee36bf\" y=\"183.962855\"/>\r\n     <use style=\"fill:#008000;stroke:#008000;\" x=\"125.40891\" xlink:href=\"#m1983ee36bf\" y=\"142.781037\"/>\r\n     <use style=\"fill:#008000;stroke:#008000;\" x=\"71.607257\" xlink:href=\"#m1983ee36bf\" y=\"159.253764\"/>\r\n     <use style=\"fill:#008000;stroke:#008000;\" x=\"63.921307\" xlink:href=\"#m1983ee36bf\" y=\"216.90831\"/>\r\n     <use style=\"fill:#008000;stroke:#008000;\" x=\"98.508084\" xlink:href=\"#m1983ee36bf\" y=\"134.544673\"/>\r\n     <use style=\"fill:#008000;stroke:#008000;\" x=\"102.351059\" xlink:href=\"#m1983ee36bf\" y=\"200.435582\"/>\r\n     <use style=\"fill:#008000;stroke:#008000;\" x=\"106.194034\" xlink:href=\"#m1983ee36bf\" y=\"142.781037\"/>\r\n     <use style=\"fill:#008000;stroke:#008000;\" x=\"86.979158\" xlink:href=\"#m1983ee36bf\" y=\"142.781037\"/>\r\n     <use style=\"fill:#008000;stroke:#008000;\" x=\"129.251885\" xlink:href=\"#m1983ee36bf\" y=\"126.30831\"/>\r\n     <use style=\"fill:#008000;stroke:#008000;\" x=\"86.979158\" xlink:href=\"#m1983ee36bf\" y=\"134.544673\"/>\r\n     <use style=\"fill:#008000;stroke:#008000;\" x=\"94.665108\" xlink:href=\"#m1983ee36bf\" y=\"159.253764\"/>\r\n     <use style=\"fill:#008000;stroke:#008000;\" x=\"110.037009\" xlink:href=\"#m1983ee36bf\" y=\"200.435582\"/>\r\n     <use style=\"fill:#008000;stroke:#008000;\" x=\"86.979158\" xlink:href=\"#m1983ee36bf\" y=\"175.726491\"/>\r\n     <use style=\"fill:#008000;stroke:#008000;\" x=\"98.508084\" xlink:href=\"#m1983ee36bf\" y=\"118.071946\"/>\r\n     <use style=\"fill:#008000;stroke:#008000;\" x=\"106.194034\" xlink:href=\"#m1983ee36bf\" y=\"151.017401\"/>\r\n     <use style=\"fill:#008000;stroke:#008000;\" x=\"113.879985\" xlink:href=\"#m1983ee36bf\" y=\"175.726491\"/>\r\n     <use style=\"fill:#008000;stroke:#008000;\" x=\"106.194034\" xlink:href=\"#m1983ee36bf\" y=\"151.017401\"/>\r\n     <use style=\"fill:#008000;stroke:#008000;\" x=\"117.72296\" xlink:href=\"#m1983ee36bf\" y=\"142.781037\"/>\r\n     <use style=\"fill:#008000;stroke:#008000;\" x=\"125.40891\" xlink:href=\"#m1983ee36bf\" y=\"134.544673\"/>\r\n     <use style=\"fill:#008000;stroke:#008000;\" x=\"133.094861\" xlink:href=\"#m1983ee36bf\" y=\"151.017401\"/>\r\n     <use style=\"fill:#008000;stroke:#008000;\" x=\"129.251885\" xlink:href=\"#m1983ee36bf\" y=\"134.544673\"/>\r\n     <use style=\"fill:#008000;stroke:#008000;\" x=\"102.351059\" xlink:href=\"#m1983ee36bf\" y=\"142.781037\"/>\r\n     <use style=\"fill:#008000;stroke:#008000;\" x=\"90.822133\" xlink:href=\"#m1983ee36bf\" y=\"167.490128\"/>\r\n     <use style=\"fill:#008000;stroke:#008000;\" x=\"83.136183\" xlink:href=\"#m1983ee36bf\" y=\"183.962855\"/>\r\n     <use style=\"fill:#008000;stroke:#008000;\" x=\"83.136183\" xlink:href=\"#m1983ee36bf\" y=\"183.962855\"/>\r\n     <use style=\"fill:#008000;stroke:#008000;\" x=\"94.665108\" xlink:href=\"#m1983ee36bf\" y=\"159.253764\"/>\r\n     <use style=\"fill:#008000;stroke:#008000;\" x=\"102.351059\" xlink:href=\"#m1983ee36bf\" y=\"159.253764\"/>\r\n     <use style=\"fill:#008000;stroke:#008000;\" x=\"79.293208\" xlink:href=\"#m1983ee36bf\" y=\"134.544673\"/>\r\n     <use style=\"fill:#008000;stroke:#008000;\" x=\"102.351059\" xlink:href=\"#m1983ee36bf\" y=\"101.599219\"/>\r\n     <use style=\"fill:#008000;stroke:#008000;\" x=\"129.251885\" xlink:href=\"#m1983ee36bf\" y=\"126.30831\"/>\r\n     <use style=\"fill:#008000;stroke:#008000;\" x=\"113.879985\" xlink:href=\"#m1983ee36bf\" y=\"192.199219\"/>\r\n     <use style=\"fill:#008000;stroke:#008000;\" x=\"86.979158\" xlink:href=\"#m1983ee36bf\" y=\"134.544673\"/>\r\n     <use style=\"fill:#008000;stroke:#008000;\" x=\"83.136183\" xlink:href=\"#m1983ee36bf\" y=\"175.726491\"/>\r\n     <use style=\"fill:#008000;stroke:#008000;\" x=\"83.136183\" xlink:href=\"#m1983ee36bf\" y=\"167.490128\"/>\r\n     <use style=\"fill:#008000;stroke:#008000;\" x=\"106.194034\" xlink:href=\"#m1983ee36bf\" y=\"134.544673\"/>\r\n     <use style=\"fill:#008000;stroke:#008000;\" x=\"94.665108\" xlink:href=\"#m1983ee36bf\" y=\"167.490128\"/>\r\n     <use style=\"fill:#008000;stroke:#008000;\" x=\"63.921307\" xlink:href=\"#m1983ee36bf\" y=\"192.199219\"/>\r\n     <use style=\"fill:#008000;stroke:#008000;\" x=\"86.979158\" xlink:href=\"#m1983ee36bf\" y=\"159.253764\"/>\r\n     <use style=\"fill:#008000;stroke:#008000;\" x=\"90.822133\" xlink:href=\"#m1983ee36bf\" y=\"134.544673\"/>\r\n     <use style=\"fill:#008000;stroke:#008000;\" x=\"90.822133\" xlink:href=\"#m1983ee36bf\" y=\"142.781037\"/>\r\n     <use style=\"fill:#008000;stroke:#008000;\" x=\"110.037009\" xlink:href=\"#m1983ee36bf\" y=\"142.781037\"/>\r\n     <use style=\"fill:#008000;stroke:#008000;\" x=\"67.764282\" xlink:href=\"#m1983ee36bf\" y=\"175.726491\"/>\r\n     <use style=\"fill:#008000;stroke:#008000;\" x=\"90.822133\" xlink:href=\"#m1983ee36bf\" y=\"151.017401\"/>\r\n    </g>\r\n   </g>\r\n   <g id=\"line2d_13\">\r\n    <defs>\r\n     <path d=\"M 0 3 \r\nC 0.795609 3 1.55874 2.683901 2.12132 2.12132 \r\nC 2.683901 1.55874 3 0.795609 3 0 \r\nC 3 -0.795609 2.683901 -1.55874 2.12132 -2.12132 \r\nC 1.55874 -2.683901 0.795609 -3 0 -3 \r\nC -0.795609 -3 -1.55874 -2.683901 -2.12132 -2.12132 \r\nC -2.683901 -1.55874 -3 -0.795609 -3 0 \r\nC -3 0.795609 -2.683901 1.55874 -2.12132 2.12132 \r\nC -1.55874 2.683901 -0.795609 3 0 3 \r\nz\r\n\" id=\"mcffa5afda7\" style=\"stroke:#0000ff;\"/>\r\n    </defs>\r\n    <g clip-path=\"url(#p959994d1b4)\">\r\n     <use style=\"fill:#0000ff;stroke:#0000ff;\" x=\"113.879985\" xlink:href=\"#mcffa5afda7\" y=\"109.835582\"/>\r\n     <use style=\"fill:#0000ff;stroke:#0000ff;\" x=\"94.665108\" xlink:href=\"#mcffa5afda7\" y=\"159.253764\"/>\r\n     <use style=\"fill:#0000ff;stroke:#0000ff;\" x=\"144.623786\" xlink:href=\"#mcffa5afda7\" y=\"134.544673\"/>\r\n     <use style=\"fill:#0000ff;stroke:#0000ff;\" x=\"113.879985\" xlink:href=\"#mcffa5afda7\" y=\"142.781037\"/>\r\n     <use style=\"fill:#0000ff;stroke:#0000ff;\" x=\"121.565935\" xlink:href=\"#mcffa5afda7\" y=\"134.544673\"/>\r\n     <use style=\"fill:#0000ff;stroke:#0000ff;\" x=\"163.838662\" xlink:href=\"#mcffa5afda7\" y=\"134.544673\"/>\r\n     <use style=\"fill:#0000ff;stroke:#0000ff;\" x=\"60.078332\" xlink:href=\"#mcffa5afda7\" y=\"175.726491\"/>\r\n     <use style=\"fill:#0000ff;stroke:#0000ff;\" x=\"152.309737\" xlink:href=\"#mcffa5afda7\" y=\"142.781037\"/>\r\n     <use style=\"fill:#0000ff;stroke:#0000ff;\" x=\"129.251885\" xlink:href=\"#mcffa5afda7\" y=\"175.726491\"/>\r\n     <use style=\"fill:#0000ff;stroke:#0000ff;\" x=\"148.466761\" xlink:href=\"#mcffa5afda7\" y=\"85.126491\"/>\r\n     <use style=\"fill:#0000ff;stroke:#0000ff;\" x=\"121.565935\" xlink:href=\"#mcffa5afda7\" y=\"118.071946\"/>\r\n     <use style=\"fill:#0000ff;stroke:#0000ff;\" x=\"117.72296\" xlink:href=\"#mcffa5afda7\" y=\"159.253764\"/>\r\n     <use style=\"fill:#0000ff;stroke:#0000ff;\" x=\"133.094861\" xlink:href=\"#mcffa5afda7\" y=\"134.544673\"/>\r\n     <use style=\"fill:#0000ff;stroke:#0000ff;\" x=\"90.822133\" xlink:href=\"#mcffa5afda7\" y=\"175.726491\"/>\r\n     <use style=\"fill:#0000ff;stroke:#0000ff;\" x=\"94.665108\" xlink:href=\"#mcffa5afda7\" y=\"151.017401\"/>\r\n     <use style=\"fill:#0000ff;stroke:#0000ff;\" x=\"117.72296\" xlink:href=\"#mcffa5afda7\" y=\"118.071946\"/>\r\n     <use style=\"fill:#0000ff;stroke:#0000ff;\" x=\"121.565935\" xlink:href=\"#mcffa5afda7\" y=\"134.544673\"/>\r\n     <use style=\"fill:#0000ff;stroke:#0000ff;\" x=\"167.681637\" xlink:href=\"#mcffa5afda7\" y=\"68.653764\"/>\r\n     <use style=\"fill:#0000ff;stroke:#0000ff;\" x=\"167.681637\" xlink:href=\"#mcffa5afda7\" y=\"167.490128\"/>\r\n     <use style=\"fill:#0000ff;stroke:#0000ff;\" x=\"102.351059\" xlink:href=\"#mcffa5afda7\" y=\"200.435582\"/>\r\n     <use style=\"fill:#0000ff;stroke:#0000ff;\" x=\"136.937836\" xlink:href=\"#mcffa5afda7\" y=\"118.071946\"/>\r\n     <use style=\"fill:#0000ff;stroke:#0000ff;\" x=\"86.979158\" xlink:href=\"#mcffa5afda7\" y=\"151.017401\"/>\r\n     <use style=\"fill:#0000ff;stroke:#0000ff;\" x=\"167.681637\" xlink:href=\"#mcffa5afda7\" y=\"151.017401\"/>\r\n     <use style=\"fill:#0000ff;stroke:#0000ff;\" x=\"113.879985\" xlink:href=\"#mcffa5afda7\" y=\"159.253764\"/>\r\n     <use style=\"fill:#0000ff;stroke:#0000ff;\" x=\"129.251885\" xlink:href=\"#mcffa5afda7\" y=\"109.835582\"/>\r\n     <use style=\"fill:#0000ff;stroke:#0000ff;\" x=\"148.466761\" xlink:href=\"#mcffa5afda7\" y=\"118.071946\"/>\r\n     <use style=\"fill:#0000ff;stroke:#0000ff;\" x=\"110.037009\" xlink:href=\"#mcffa5afda7\" y=\"151.017401\"/>\r\n     <use style=\"fill:#0000ff;stroke:#0000ff;\" x=\"106.194034\" xlink:href=\"#mcffa5afda7\" y=\"134.544673\"/>\r\n     <use style=\"fill:#0000ff;stroke:#0000ff;\" x=\"117.72296\" xlink:href=\"#mcffa5afda7\" y=\"151.017401\"/>\r\n     <use style=\"fill:#0000ff;stroke:#0000ff;\" x=\"148.466761\" xlink:href=\"#mcffa5afda7\" y=\"134.544673\"/>\r\n     <use style=\"fill:#0000ff;stroke:#0000ff;\" x=\"156.152712\" xlink:href=\"#mcffa5afda7\" y=\"151.017401\"/>\r\n     <use style=\"fill:#0000ff;stroke:#0000ff;\" x=\"175.367588\" xlink:href=\"#mcffa5afda7\" y=\"68.653764\"/>\r\n     <use style=\"fill:#0000ff;stroke:#0000ff;\" x=\"117.72296\" xlink:href=\"#mcffa5afda7\" y=\"151.017401\"/>\r\n     <use style=\"fill:#0000ff;stroke:#0000ff;\" x=\"113.879985\" xlink:href=\"#mcffa5afda7\" y=\"151.017401\"/>\r\n     <use style=\"fill:#0000ff;stroke:#0000ff;\" x=\"106.194034\" xlink:href=\"#mcffa5afda7\" y=\"167.490128\"/>\r\n     <use style=\"fill:#0000ff;stroke:#0000ff;\" x=\"167.681637\" xlink:href=\"#mcffa5afda7\" y=\"134.544673\"/>\r\n     <use style=\"fill:#0000ff;stroke:#0000ff;\" x=\"113.879985\" xlink:href=\"#mcffa5afda7\" y=\"101.599219\"/>\r\n     <use style=\"fill:#0000ff;stroke:#0000ff;\" x=\"117.72296\" xlink:href=\"#mcffa5afda7\" y=\"126.30831\"/>\r\n     <use style=\"fill:#0000ff;stroke:#0000ff;\" x=\"102.351059\" xlink:href=\"#mcffa5afda7\" y=\"134.544673\"/>\r\n     <use style=\"fill:#0000ff;stroke:#0000ff;\" x=\"136.937836\" xlink:href=\"#mcffa5afda7\" y=\"126.30831\"/>\r\n     <use style=\"fill:#0000ff;stroke:#0000ff;\" x=\"129.251885\" xlink:href=\"#mcffa5afda7\" y=\"126.30831\"/>\r\n     <use style=\"fill:#0000ff;stroke:#0000ff;\" x=\"136.937836\" xlink:href=\"#mcffa5afda7\" y=\"126.30831\"/>\r\n     <use style=\"fill:#0000ff;stroke:#0000ff;\" x=\"94.665108\" xlink:href=\"#mcffa5afda7\" y=\"159.253764\"/>\r\n     <use style=\"fill:#0000ff;stroke:#0000ff;\" x=\"133.094861\" xlink:href=\"#mcffa5afda7\" y=\"118.071946\"/>\r\n     <use style=\"fill:#0000ff;stroke:#0000ff;\" x=\"129.251885\" xlink:href=\"#mcffa5afda7\" y=\"109.835582\"/>\r\n     <use style=\"fill:#0000ff;stroke:#0000ff;\" x=\"129.251885\" xlink:href=\"#mcffa5afda7\" y=\"134.544673\"/>\r\n     <use style=\"fill:#0000ff;stroke:#0000ff;\" x=\"113.879985\" xlink:href=\"#mcffa5afda7\" y=\"175.726491\"/>\r\n     <use style=\"fill:#0000ff;stroke:#0000ff;\" x=\"121.565935\" xlink:href=\"#mcffa5afda7\" y=\"134.544673\"/>\r\n     <use style=\"fill:#0000ff;stroke:#0000ff;\" x=\"110.037009\" xlink:href=\"#mcffa5afda7\" y=\"101.599219\"/>\r\n     <use style=\"fill:#0000ff;stroke:#0000ff;\" x=\"98.508084\" xlink:href=\"#mcffa5afda7\" y=\"134.544673\"/>\r\n    </g>\r\n   </g>\r\n   <g id=\"patch_3\">\r\n    <path d=\"M 30.103125 226.791946 \r\nL 30.103125 9.351946 \r\n\" style=\"fill:none;stroke:#000000;stroke-linecap:square;stroke-linejoin:miter;stroke-width:0.8;\"/>\r\n   </g>\r\n   <g id=\"patch_4\">\r\n    <path d=\"M 182.284943 226.791946 \r\nL 182.284943 9.351946 \r\n\" style=\"fill:none;stroke:#000000;stroke-linecap:square;stroke-linejoin:miter;stroke-width:0.8;\"/>\r\n   </g>\r\n   <g id=\"patch_5\">\r\n    <path d=\"M 30.103125 226.791946 \r\nL 182.284943 226.791946 \r\n\" style=\"fill:none;stroke:#000000;stroke-linecap:square;stroke-linejoin:miter;stroke-width:0.8;\"/>\r\n   </g>\r\n   <g id=\"patch_6\">\r\n    <path d=\"M 30.103125 9.351946 \r\nL 182.284943 9.351946 \r\n\" style=\"fill:none;stroke:#000000;stroke-linecap:square;stroke-linejoin:miter;stroke-width:0.8;\"/>\r\n   </g>\r\n  </g>\r\n  <g id=\"axes_2\">\r\n   <g id=\"patch_7\">\r\n    <path d=\"M 212.721307 226.791946 \r\nL 364.903125 226.791946 \r\nL 364.903125 9.351946 \r\nL 212.721307 9.351946 \r\nz\r\n\" style=\"fill:#ffffff;\"/>\r\n   </g>\r\n   <g id=\"matplotlib.axis_3\">\r\n    <g id=\"xtick_5\">\r\n     <g id=\"line2d_14\">\r\n      <g>\r\n       <use style=\"stroke:#000000;stroke-width:0.8;\" x=\"243.087324\" xlink:href=\"#m64054da5e6\" y=\"226.791946\"/>\r\n      </g>\r\n     </g>\r\n     <g id=\"text_11\">\r\n      <!-- 2 -->\r\n      <g transform=\"translate(239.906074 241.390384)scale(0.1 -0.1)\">\r\n       <use xlink:href=\"#DejaVuSans-50\"/>\r\n      </g>\r\n     </g>\r\n    </g>\r\n    <g id=\"xtick_6\">\r\n     <g id=\"line2d_15\">\r\n      <g>\r\n       <use style=\"stroke:#000000;stroke-width:0.8;\" x=\"289.984649\" xlink:href=\"#m64054da5e6\" y=\"226.791946\"/>\r\n      </g>\r\n     </g>\r\n     <g id=\"text_12\">\r\n      <!-- 4 -->\r\n      <g transform=\"translate(286.803399 241.390384)scale(0.1 -0.1)\">\r\n       <use xlink:href=\"#DejaVuSans-52\"/>\r\n      </g>\r\n     </g>\r\n    </g>\r\n    <g id=\"xtick_7\">\r\n     <g id=\"line2d_16\">\r\n      <g>\r\n       <use style=\"stroke:#000000;stroke-width:0.8;\" x=\"336.881974\" xlink:href=\"#m64054da5e6\" y=\"226.791946\"/>\r\n      </g>\r\n     </g>\r\n     <g id=\"text_13\">\r\n      <!-- 6 -->\r\n      <g transform=\"translate(333.700724 241.390384)scale(0.1 -0.1)\">\r\n       <use xlink:href=\"#DejaVuSans-54\"/>\r\n      </g>\r\n     </g>\r\n    </g>\r\n   </g>\r\n   <g id=\"matplotlib.axis_4\">\r\n    <g id=\"ytick_7\">\r\n     <g id=\"line2d_17\">\r\n      <g>\r\n       <use style=\"stroke:#000000;stroke-width:0.8;\" x=\"212.721307\" xlink:href=\"#m3b0d1eb97f\" y=\"225.144673\"/>\r\n      </g>\r\n     </g>\r\n     <g id=\"text_14\">\r\n      <!-- 0.0 -->\r\n      <g transform=\"translate(189.818182 228.943892)scale(0.1 -0.1)\">\r\n       <use xlink:href=\"#DejaVuSans-48\"/>\r\n       <use x=\"63.623047\" xlink:href=\"#DejaVuSans-46\"/>\r\n       <use x=\"95.410156\" xlink:href=\"#DejaVuSans-48\"/>\r\n      </g>\r\n     </g>\r\n    </g>\r\n    <g id=\"ytick_8\">\r\n     <g id=\"line2d_18\">\r\n      <g>\r\n       <use style=\"stroke:#000000;stroke-width:0.8;\" x=\"212.721307\" xlink:href=\"#m3b0d1eb97f\" y=\"183.962855\"/>\r\n      </g>\r\n     </g>\r\n     <g id=\"text_15\">\r\n      <!-- 0.5 -->\r\n      <g transform=\"translate(189.818182 187.762074)scale(0.1 -0.1)\">\r\n       <use xlink:href=\"#DejaVuSans-48\"/>\r\n       <use x=\"63.623047\" xlink:href=\"#DejaVuSans-46\"/>\r\n       <use x=\"95.410156\" xlink:href=\"#DejaVuSans-53\"/>\r\n      </g>\r\n     </g>\r\n    </g>\r\n    <g id=\"ytick_9\">\r\n     <g id=\"line2d_19\">\r\n      <g>\r\n       <use style=\"stroke:#000000;stroke-width:0.8;\" x=\"212.721307\" xlink:href=\"#m3b0d1eb97f\" y=\"142.781037\"/>\r\n      </g>\r\n     </g>\r\n     <g id=\"text_16\">\r\n      <!-- 1.0 -->\r\n      <defs>\r\n       <path d=\"M 12.40625 8.296875 \r\nL 28.515625 8.296875 \r\nL 28.515625 63.921875 \r\nL 10.984375 60.40625 \r\nL 10.984375 69.390625 \r\nL 28.421875 72.90625 \r\nL 38.28125 72.90625 \r\nL 38.28125 8.296875 \r\nL 54.390625 8.296875 \r\nL 54.390625 0 \r\nL 12.40625 0 \r\nz\r\n\" id=\"DejaVuSans-49\"/>\r\n      </defs>\r\n      <g transform=\"translate(189.818182 146.580256)scale(0.1 -0.1)\">\r\n       <use xlink:href=\"#DejaVuSans-49\"/>\r\n       <use x=\"63.623047\" xlink:href=\"#DejaVuSans-46\"/>\r\n       <use x=\"95.410156\" xlink:href=\"#DejaVuSans-48\"/>\r\n      </g>\r\n     </g>\r\n    </g>\r\n    <g id=\"ytick_10\">\r\n     <g id=\"line2d_20\">\r\n      <g>\r\n       <use style=\"stroke:#000000;stroke-width:0.8;\" x=\"212.721307\" xlink:href=\"#m3b0d1eb97f\" y=\"101.599219\"/>\r\n      </g>\r\n     </g>\r\n     <g id=\"text_17\">\r\n      <!-- 1.5 -->\r\n      <g transform=\"translate(189.818182 105.398437)scale(0.1 -0.1)\">\r\n       <use xlink:href=\"#DejaVuSans-49\"/>\r\n       <use x=\"63.623047\" xlink:href=\"#DejaVuSans-46\"/>\r\n       <use x=\"95.410156\" xlink:href=\"#DejaVuSans-53\"/>\r\n      </g>\r\n     </g>\r\n    </g>\r\n    <g id=\"ytick_11\">\r\n     <g id=\"line2d_21\">\r\n      <g>\r\n       <use style=\"stroke:#000000;stroke-width:0.8;\" x=\"212.721307\" xlink:href=\"#m3b0d1eb97f\" y=\"60.417401\"/>\r\n      </g>\r\n     </g>\r\n     <g id=\"text_18\">\r\n      <!-- 2.0 -->\r\n      <g transform=\"translate(189.818182 64.216619)scale(0.1 -0.1)\">\r\n       <use xlink:href=\"#DejaVuSans-50\"/>\r\n       <use x=\"63.623047\" xlink:href=\"#DejaVuSans-46\"/>\r\n       <use x=\"95.410156\" xlink:href=\"#DejaVuSans-48\"/>\r\n      </g>\r\n     </g>\r\n    </g>\r\n    <g id=\"ytick_12\">\r\n     <g id=\"line2d_22\">\r\n      <g>\r\n       <use style=\"stroke:#000000;stroke-width:0.8;\" x=\"212.721307\" xlink:href=\"#m3b0d1eb97f\" y=\"19.235582\"/>\r\n      </g>\r\n     </g>\r\n     <g id=\"text_19\">\r\n      <!-- 2.5 -->\r\n      <g transform=\"translate(189.818182 23.034801)scale(0.1 -0.1)\">\r\n       <use xlink:href=\"#DejaVuSans-50\"/>\r\n       <use x=\"63.623047\" xlink:href=\"#DejaVuSans-46\"/>\r\n       <use x=\"95.410156\" xlink:href=\"#DejaVuSans-53\"/>\r\n      </g>\r\n     </g>\r\n    </g>\r\n   </g>\r\n   <g id=\"line2d_23\">\r\n    <g clip-path=\"url(#pd2c0650c11)\">\r\n     <use style=\"fill:#ff0000;stroke:#ff0000;\" x=\"229.018127\" xlink:href=\"#m775bfdea34\" y=\"208.671946\"/>\r\n     <use style=\"fill:#ff0000;stroke:#ff0000;\" x=\"229.018127\" xlink:href=\"#m775bfdea34\" y=\"208.671946\"/>\r\n     <use style=\"fill:#ff0000;stroke:#ff0000;\" x=\"226.673261\" xlink:href=\"#m775bfdea34\" y=\"208.671946\"/>\r\n     <use style=\"fill:#ff0000;stroke:#ff0000;\" x=\"231.362993\" xlink:href=\"#m775bfdea34\" y=\"208.671946\"/>\r\n     <use style=\"fill:#ff0000;stroke:#ff0000;\" x=\"229.018127\" xlink:href=\"#m775bfdea34\" y=\"208.671946\"/>\r\n     <use style=\"fill:#ff0000;stroke:#ff0000;\" x=\"236.052726\" xlink:href=\"#m775bfdea34\" y=\"192.199219\"/>\r\n     <use style=\"fill:#ff0000;stroke:#ff0000;\" x=\"229.018127\" xlink:href=\"#m775bfdea34\" y=\"200.435582\"/>\r\n     <use style=\"fill:#ff0000;stroke:#ff0000;\" x=\"231.362993\" xlink:href=\"#m775bfdea34\" y=\"208.671946\"/>\r\n     <use style=\"fill:#ff0000;stroke:#ff0000;\" x=\"229.018127\" xlink:href=\"#m775bfdea34\" y=\"208.671946\"/>\r\n     <use style=\"fill:#ff0000;stroke:#ff0000;\" x=\"231.362993\" xlink:href=\"#m775bfdea34\" y=\"216.90831\"/>\r\n     <use style=\"fill:#ff0000;stroke:#ff0000;\" x=\"231.362993\" xlink:href=\"#m775bfdea34\" y=\"208.671946\"/>\r\n     <use style=\"fill:#ff0000;stroke:#ff0000;\" x=\"233.70786\" xlink:href=\"#m775bfdea34\" y=\"208.671946\"/>\r\n     <use style=\"fill:#ff0000;stroke:#ff0000;\" x=\"229.018127\" xlink:href=\"#m775bfdea34\" y=\"216.90831\"/>\r\n     <use style=\"fill:#ff0000;stroke:#ff0000;\" x=\"221.983528\" xlink:href=\"#m775bfdea34\" y=\"216.90831\"/>\r\n     <use style=\"fill:#ff0000;stroke:#ff0000;\" x=\"224.328395\" xlink:href=\"#m775bfdea34\" y=\"208.671946\"/>\r\n     <use style=\"fill:#ff0000;stroke:#ff0000;\" x=\"231.362993\" xlink:href=\"#m775bfdea34\" y=\"192.199219\"/>\r\n     <use style=\"fill:#ff0000;stroke:#ff0000;\" x=\"226.673261\" xlink:href=\"#m775bfdea34\" y=\"192.199219\"/>\r\n     <use style=\"fill:#ff0000;stroke:#ff0000;\" x=\"229.018127\" xlink:href=\"#m775bfdea34\" y=\"200.435582\"/>\r\n     <use style=\"fill:#ff0000;stroke:#ff0000;\" x=\"236.052726\" xlink:href=\"#m775bfdea34\" y=\"200.435582\"/>\r\n     <use style=\"fill:#ff0000;stroke:#ff0000;\" x=\"231.362993\" xlink:href=\"#m775bfdea34\" y=\"200.435582\"/>\r\n     <use style=\"fill:#ff0000;stroke:#ff0000;\" x=\"236.052726\" xlink:href=\"#m775bfdea34\" y=\"208.671946\"/>\r\n     <use style=\"fill:#ff0000;stroke:#ff0000;\" x=\"231.362993\" xlink:href=\"#m775bfdea34\" y=\"192.199219\"/>\r\n     <use style=\"fill:#ff0000;stroke:#ff0000;\" x=\"219.638662\" xlink:href=\"#m775bfdea34\" y=\"208.671946\"/>\r\n     <use style=\"fill:#ff0000;stroke:#ff0000;\" x=\"236.052726\" xlink:href=\"#m775bfdea34\" y=\"183.962855\"/>\r\n     <use style=\"fill:#ff0000;stroke:#ff0000;\" x=\"240.742458\" xlink:href=\"#m775bfdea34\" y=\"208.671946\"/>\r\n     <use style=\"fill:#ff0000;stroke:#ff0000;\" x=\"233.70786\" xlink:href=\"#m775bfdea34\" y=\"208.671946\"/>\r\n     <use style=\"fill:#ff0000;stroke:#ff0000;\" x=\"233.70786\" xlink:href=\"#m775bfdea34\" y=\"192.199219\"/>\r\n     <use style=\"fill:#ff0000;stroke:#ff0000;\" x=\"231.362993\" xlink:href=\"#m775bfdea34\" y=\"208.671946\"/>\r\n     <use style=\"fill:#ff0000;stroke:#ff0000;\" x=\"229.018127\" xlink:href=\"#m775bfdea34\" y=\"208.671946\"/>\r\n     <use style=\"fill:#ff0000;stroke:#ff0000;\" x=\"233.70786\" xlink:href=\"#m775bfdea34\" y=\"208.671946\"/>\r\n     <use style=\"fill:#ff0000;stroke:#ff0000;\" x=\"233.70786\" xlink:href=\"#m775bfdea34\" y=\"208.671946\"/>\r\n     <use style=\"fill:#ff0000;stroke:#ff0000;\" x=\"231.362993\" xlink:href=\"#m775bfdea34\" y=\"192.199219\"/>\r\n     <use style=\"fill:#ff0000;stroke:#ff0000;\" x=\"231.362993\" xlink:href=\"#m775bfdea34\" y=\"216.90831\"/>\r\n     <use style=\"fill:#ff0000;stroke:#ff0000;\" x=\"229.018127\" xlink:href=\"#m775bfdea34\" y=\"208.671946\"/>\r\n     <use style=\"fill:#ff0000;stroke:#ff0000;\" x=\"231.362993\" xlink:href=\"#m775bfdea34\" y=\"208.671946\"/>\r\n     <use style=\"fill:#ff0000;stroke:#ff0000;\" x=\"224.328395\" xlink:href=\"#m775bfdea34\" y=\"208.671946\"/>\r\n     <use style=\"fill:#ff0000;stroke:#ff0000;\" x=\"226.673261\" xlink:href=\"#m775bfdea34\" y=\"208.671946\"/>\r\n     <use style=\"fill:#ff0000;stroke:#ff0000;\" x=\"229.018127\" xlink:href=\"#m775bfdea34\" y=\"216.90831\"/>\r\n     <use style=\"fill:#ff0000;stroke:#ff0000;\" x=\"226.673261\" xlink:href=\"#m775bfdea34\" y=\"208.671946\"/>\r\n     <use style=\"fill:#ff0000;stroke:#ff0000;\" x=\"231.362993\" xlink:href=\"#m775bfdea34\" y=\"208.671946\"/>\r\n     <use style=\"fill:#ff0000;stroke:#ff0000;\" x=\"226.673261\" xlink:href=\"#m775bfdea34\" y=\"200.435582\"/>\r\n     <use style=\"fill:#ff0000;stroke:#ff0000;\" x=\"226.673261\" xlink:href=\"#m775bfdea34\" y=\"200.435582\"/>\r\n     <use style=\"fill:#ff0000;stroke:#ff0000;\" x=\"226.673261\" xlink:href=\"#m775bfdea34\" y=\"208.671946\"/>\r\n     <use style=\"fill:#ff0000;stroke:#ff0000;\" x=\"233.70786\" xlink:href=\"#m775bfdea34\" y=\"175.726491\"/>\r\n     <use style=\"fill:#ff0000;stroke:#ff0000;\" x=\"240.742458\" xlink:href=\"#m775bfdea34\" y=\"192.199219\"/>\r\n     <use style=\"fill:#ff0000;stroke:#ff0000;\" x=\"229.018127\" xlink:href=\"#m775bfdea34\" y=\"200.435582\"/>\r\n     <use style=\"fill:#ff0000;stroke:#ff0000;\" x=\"233.70786\" xlink:href=\"#m775bfdea34\" y=\"208.671946\"/>\r\n     <use style=\"fill:#ff0000;stroke:#ff0000;\" x=\"229.018127\" xlink:href=\"#m775bfdea34\" y=\"208.671946\"/>\r\n     <use style=\"fill:#ff0000;stroke:#ff0000;\" x=\"231.362993\" xlink:href=\"#m775bfdea34\" y=\"208.671946\"/>\r\n     <use style=\"fill:#ff0000;stroke:#ff0000;\" x=\"229.018127\" xlink:href=\"#m775bfdea34\" y=\"208.671946\"/>\r\n    </g>\r\n   </g>\r\n   <g id=\"line2d_24\">\r\n    <g clip-path=\"url(#pd2c0650c11)\">\r\n     <use style=\"fill:#008000;stroke:#008000;\" x=\"306.398713\" xlink:href=\"#m1983ee36bf\" y=\"109.835582\"/>\r\n     <use style=\"fill:#008000;stroke:#008000;\" x=\"301.70898\" xlink:href=\"#m1983ee36bf\" y=\"101.599219\"/>\r\n     <use style=\"fill:#008000;stroke:#008000;\" x=\"311.088445\" xlink:href=\"#m1983ee36bf\" y=\"101.599219\"/>\r\n     <use style=\"fill:#008000;stroke:#008000;\" x=\"289.984649\" xlink:href=\"#m1983ee36bf\" y=\"118.071946\"/>\r\n     <use style=\"fill:#008000;stroke:#008000;\" x=\"304.053846\" xlink:href=\"#m1983ee36bf\" y=\"101.599219\"/>\r\n     <use style=\"fill:#008000;stroke:#008000;\" x=\"301.70898\" xlink:href=\"#m1983ee36bf\" y=\"118.071946\"/>\r\n     <use style=\"fill:#008000;stroke:#008000;\" x=\"306.398713\" xlink:href=\"#m1983ee36bf\" y=\"93.362855\"/>\r\n     <use style=\"fill:#008000;stroke:#008000;\" x=\"273.570585\" xlink:href=\"#m1983ee36bf\" y=\"142.781037\"/>\r\n     <use style=\"fill:#008000;stroke:#008000;\" x=\"304.053846\" xlink:href=\"#m1983ee36bf\" y=\"118.071946\"/>\r\n     <use style=\"fill:#008000;stroke:#008000;\" x=\"287.639783\" xlink:href=\"#m1983ee36bf\" y=\"109.835582\"/>\r\n     <use style=\"fill:#008000;stroke:#008000;\" x=\"278.260318\" xlink:href=\"#m1983ee36bf\" y=\"142.781037\"/>\r\n     <use style=\"fill:#008000;stroke:#008000;\" x=\"294.674381\" xlink:href=\"#m1983ee36bf\" y=\"101.599219\"/>\r\n     <use style=\"fill:#008000;stroke:#008000;\" x=\"289.984649\" xlink:href=\"#m1983ee36bf\" y=\"142.781037\"/>\r\n     <use style=\"fill:#008000;stroke:#008000;\" x=\"306.398713\" xlink:href=\"#m1983ee36bf\" y=\"109.835582\"/>\r\n     <use style=\"fill:#008000;stroke:#008000;\" x=\"280.605184\" xlink:href=\"#m1983ee36bf\" y=\"118.071946\"/>\r\n     <use style=\"fill:#008000;stroke:#008000;\" x=\"299.364114\" xlink:href=\"#m1983ee36bf\" y=\"109.835582\"/>\r\n     <use style=\"fill:#008000;stroke:#008000;\" x=\"301.70898\" xlink:href=\"#m1983ee36bf\" y=\"101.599219\"/>\r\n     <use style=\"fill:#008000;stroke:#008000;\" x=\"292.329515\" xlink:href=\"#m1983ee36bf\" y=\"142.781037\"/>\r\n     <use style=\"fill:#008000;stroke:#008000;\" x=\"301.70898\" xlink:href=\"#m1983ee36bf\" y=\"101.599219\"/>\r\n     <use style=\"fill:#008000;stroke:#008000;\" x=\"287.639783\" xlink:href=\"#m1983ee36bf\" y=\"134.544673\"/>\r\n     <use style=\"fill:#008000;stroke:#008000;\" x=\"308.743579\" xlink:href=\"#m1983ee36bf\" y=\"76.890128\"/>\r\n     <use style=\"fill:#008000;stroke:#008000;\" x=\"289.984649\" xlink:href=\"#m1983ee36bf\" y=\"118.071946\"/>\r\n     <use style=\"fill:#008000;stroke:#008000;\" x=\"311.088445\" xlink:href=\"#m1983ee36bf\" y=\"101.599219\"/>\r\n     <use style=\"fill:#008000;stroke:#008000;\" x=\"306.398713\" xlink:href=\"#m1983ee36bf\" y=\"126.30831\"/>\r\n     <use style=\"fill:#008000;stroke:#008000;\" x=\"297.019248\" xlink:href=\"#m1983ee36bf\" y=\"118.071946\"/>\r\n     <use style=\"fill:#008000;stroke:#008000;\" x=\"299.364114\" xlink:href=\"#m1983ee36bf\" y=\"109.835582\"/>\r\n     <use style=\"fill:#008000;stroke:#008000;\" x=\"308.743579\" xlink:href=\"#m1983ee36bf\" y=\"109.835582\"/>\r\n     <use style=\"fill:#008000;stroke:#008000;\" x=\"313.433311\" xlink:href=\"#m1983ee36bf\" y=\"85.126491\"/>\r\n     <use style=\"fill:#008000;stroke:#008000;\" x=\"301.70898\" xlink:href=\"#m1983ee36bf\" y=\"101.599219\"/>\r\n     <use style=\"fill:#008000;stroke:#008000;\" x=\"278.260318\" xlink:href=\"#m1983ee36bf\" y=\"142.781037\"/>\r\n     <use style=\"fill:#008000;stroke:#008000;\" x=\"285.294917\" xlink:href=\"#m1983ee36bf\" y=\"134.544673\"/>\r\n     <use style=\"fill:#008000;stroke:#008000;\" x=\"282.95005\" xlink:href=\"#m1983ee36bf\" y=\"142.781037\"/>\r\n     <use style=\"fill:#008000;stroke:#008000;\" x=\"287.639783\" xlink:href=\"#m1983ee36bf\" y=\"126.30831\"/>\r\n     <use style=\"fill:#008000;stroke:#008000;\" x=\"315.778178\" xlink:href=\"#m1983ee36bf\" y=\"93.362855\"/>\r\n     <use style=\"fill:#008000;stroke:#008000;\" x=\"301.70898\" xlink:href=\"#m1983ee36bf\" y=\"101.599219\"/>\r\n     <use style=\"fill:#008000;stroke:#008000;\" x=\"301.70898\" xlink:href=\"#m1983ee36bf\" y=\"93.362855\"/>\r\n     <use style=\"fill:#008000;stroke:#008000;\" x=\"306.398713\" xlink:href=\"#m1983ee36bf\" y=\"101.599219\"/>\r\n     <use style=\"fill:#008000;stroke:#008000;\" x=\"299.364114\" xlink:href=\"#m1983ee36bf\" y=\"118.071946\"/>\r\n     <use style=\"fill:#008000;stroke:#008000;\" x=\"292.329515\" xlink:href=\"#m1983ee36bf\" y=\"118.071946\"/>\r\n     <use style=\"fill:#008000;stroke:#008000;\" x=\"289.984649\" xlink:href=\"#m1983ee36bf\" y=\"118.071946\"/>\r\n     <use style=\"fill:#008000;stroke:#008000;\" x=\"299.364114\" xlink:href=\"#m1983ee36bf\" y=\"126.30831\"/>\r\n     <use style=\"fill:#008000;stroke:#008000;\" x=\"304.053846\" xlink:href=\"#m1983ee36bf\" y=\"109.835582\"/>\r\n     <use style=\"fill:#008000;stroke:#008000;\" x=\"289.984649\" xlink:href=\"#m1983ee36bf\" y=\"126.30831\"/>\r\n     <use style=\"fill:#008000;stroke:#008000;\" x=\"273.570585\" xlink:href=\"#m1983ee36bf\" y=\"142.781037\"/>\r\n     <use style=\"fill:#008000;stroke:#008000;\" x=\"294.674381\" xlink:href=\"#m1983ee36bf\" y=\"118.071946\"/>\r\n     <use style=\"fill:#008000;stroke:#008000;\" x=\"294.674381\" xlink:href=\"#m1983ee36bf\" y=\"126.30831\"/>\r\n     <use style=\"fill:#008000;stroke:#008000;\" x=\"294.674381\" xlink:href=\"#m1983ee36bf\" y=\"118.071946\"/>\r\n     <use style=\"fill:#008000;stroke:#008000;\" x=\"297.019248\" xlink:href=\"#m1983ee36bf\" y=\"118.071946\"/>\r\n     <use style=\"fill:#008000;stroke:#008000;\" x=\"266.535987\" xlink:href=\"#m1983ee36bf\" y=\"134.544673\"/>\r\n     <use style=\"fill:#008000;stroke:#008000;\" x=\"292.329515\" xlink:href=\"#m1983ee36bf\" y=\"118.071946\"/>\r\n    </g>\r\n   </g>\r\n   <g id=\"line2d_25\">\r\n    <g clip-path=\"url(#pd2c0650c11)\">\r\n     <use style=\"fill:#0000ff;stroke:#0000ff;\" x=\"336.881974\" xlink:href=\"#mcffa5afda7\" y=\"19.235582\"/>\r\n     <use style=\"fill:#0000ff;stroke:#0000ff;\" x=\"315.778178\" xlink:href=\"#mcffa5afda7\" y=\"68.653764\"/>\r\n     <use style=\"fill:#0000ff;stroke:#0000ff;\" x=\"334.537107\" xlink:href=\"#mcffa5afda7\" y=\"52.181037\"/>\r\n     <use style=\"fill:#0000ff;stroke:#0000ff;\" x=\"327.502509\" xlink:href=\"#mcffa5afda7\" y=\"76.890128\"/>\r\n     <use style=\"fill:#0000ff;stroke:#0000ff;\" x=\"332.192241\" xlink:href=\"#mcffa5afda7\" y=\"43.944673\"/>\r\n     <use style=\"fill:#0000ff;stroke:#0000ff;\" x=\"350.951171\" xlink:href=\"#mcffa5afda7\" y=\"52.181037\"/>\r\n     <use style=\"fill:#0000ff;stroke:#0000ff;\" x=\"301.70898\" xlink:href=\"#mcffa5afda7\" y=\"85.126491\"/>\r\n     <use style=\"fill:#0000ff;stroke:#0000ff;\" x=\"343.916572\" xlink:href=\"#mcffa5afda7\" y=\"76.890128\"/>\r\n     <use style=\"fill:#0000ff;stroke:#0000ff;\" x=\"332.192241\" xlink:href=\"#mcffa5afda7\" y=\"76.890128\"/>\r\n     <use style=\"fill:#0000ff;stroke:#0000ff;\" x=\"339.22684\" xlink:href=\"#mcffa5afda7\" y=\"19.235582\"/>\r\n     <use style=\"fill:#0000ff;stroke:#0000ff;\" x=\"315.778178\" xlink:href=\"#mcffa5afda7\" y=\"60.417401\"/>\r\n     <use style=\"fill:#0000ff;stroke:#0000ff;\" x=\"320.46791\" xlink:href=\"#mcffa5afda7\" y=\"68.653764\"/>\r\n     <use style=\"fill:#0000ff;stroke:#0000ff;\" x=\"325.157642\" xlink:href=\"#mcffa5afda7\" y=\"52.181037\"/>\r\n     <use style=\"fill:#0000ff;stroke:#0000ff;\" x=\"313.433311\" xlink:href=\"#mcffa5afda7\" y=\"60.417401\"/>\r\n     <use style=\"fill:#0000ff;stroke:#0000ff;\" x=\"315.778178\" xlink:href=\"#mcffa5afda7\" y=\"27.471946\"/>\r\n     <use style=\"fill:#0000ff;stroke:#0000ff;\" x=\"320.46791\" xlink:href=\"#mcffa5afda7\" y=\"35.70831\"/>\r\n     <use style=\"fill:#0000ff;stroke:#0000ff;\" x=\"325.157642\" xlink:href=\"#mcffa5afda7\" y=\"76.890128\"/>\r\n     <use style=\"fill:#0000ff;stroke:#0000ff;\" x=\"353.296037\" xlink:href=\"#mcffa5afda7\" y=\"43.944673\"/>\r\n     <use style=\"fill:#0000ff;stroke:#0000ff;\" x=\"357.98577\" xlink:href=\"#mcffa5afda7\" y=\"35.70831\"/>\r\n     <use style=\"fill:#0000ff;stroke:#0000ff;\" x=\"313.433311\" xlink:href=\"#mcffa5afda7\" y=\"101.599219\"/>\r\n     <use style=\"fill:#0000ff;stroke:#0000ff;\" x=\"329.847375\" xlink:href=\"#mcffa5afda7\" y=\"35.70831\"/>\r\n     <use style=\"fill:#0000ff;stroke:#0000ff;\" x=\"311.088445\" xlink:href=\"#mcffa5afda7\" y=\"60.417401\"/>\r\n     <use style=\"fill:#0000ff;stroke:#0000ff;\" x=\"353.296037\" xlink:href=\"#mcffa5afda7\" y=\"60.417401\"/>\r\n     <use style=\"fill:#0000ff;stroke:#0000ff;\" x=\"311.088445\" xlink:href=\"#mcffa5afda7\" y=\"76.890128\"/>\r\n     <use style=\"fill:#0000ff;stroke:#0000ff;\" x=\"329.847375\" xlink:href=\"#mcffa5afda7\" y=\"52.181037\"/>\r\n     <use style=\"fill:#0000ff;stroke:#0000ff;\" x=\"336.881974\" xlink:href=\"#mcffa5afda7\" y=\"76.890128\"/>\r\n     <use style=\"fill:#0000ff;stroke:#0000ff;\" x=\"308.743579\" xlink:href=\"#mcffa5afda7\" y=\"76.890128\"/>\r\n     <use style=\"fill:#0000ff;stroke:#0000ff;\" x=\"311.088445\" xlink:href=\"#mcffa5afda7\" y=\"76.890128\"/>\r\n     <use style=\"fill:#0000ff;stroke:#0000ff;\" x=\"327.502509\" xlink:href=\"#mcffa5afda7\" y=\"52.181037\"/>\r\n     <use style=\"fill:#0000ff;stroke:#0000ff;\" x=\"332.192241\" xlink:href=\"#mcffa5afda7\" y=\"93.362855\"/>\r\n     <use style=\"fill:#0000ff;stroke:#0000ff;\" x=\"339.22684\" xlink:href=\"#mcffa5afda7\" y=\"68.653764\"/>\r\n     <use style=\"fill:#0000ff;stroke:#0000ff;\" x=\"346.261438\" xlink:href=\"#mcffa5afda7\" y=\"60.417401\"/>\r\n     <use style=\"fill:#0000ff;stroke:#0000ff;\" x=\"327.502509\" xlink:href=\"#mcffa5afda7\" y=\"43.944673\"/>\r\n     <use style=\"fill:#0000ff;stroke:#0000ff;\" x=\"315.778178\" xlink:href=\"#mcffa5afda7\" y=\"101.599219\"/>\r\n     <use style=\"fill:#0000ff;stroke:#0000ff;\" x=\"327.502509\" xlink:href=\"#mcffa5afda7\" y=\"109.835582\"/>\r\n     <use style=\"fill:#0000ff;stroke:#0000ff;\" x=\"339.22684\" xlink:href=\"#mcffa5afda7\" y=\"35.70831\"/>\r\n     <use style=\"fill:#0000ff;stroke:#0000ff;\" x=\"327.502509\" xlink:href=\"#mcffa5afda7\" y=\"27.471946\"/>\r\n     <use style=\"fill:#0000ff;stroke:#0000ff;\" x=\"325.157642\" xlink:href=\"#mcffa5afda7\" y=\"76.890128\"/>\r\n     <use style=\"fill:#0000ff;stroke:#0000ff;\" x=\"308.743579\" xlink:href=\"#mcffa5afda7\" y=\"76.890128\"/>\r\n     <use style=\"fill:#0000ff;stroke:#0000ff;\" x=\"322.812776\" xlink:href=\"#mcffa5afda7\" y=\"52.181037\"/>\r\n     <use style=\"fill:#0000ff;stroke:#0000ff;\" x=\"327.502509\" xlink:href=\"#mcffa5afda7\" y=\"27.471946\"/>\r\n     <use style=\"fill:#0000ff;stroke:#0000ff;\" x=\"315.778178\" xlink:href=\"#mcffa5afda7\" y=\"35.70831\"/>\r\n     <use style=\"fill:#0000ff;stroke:#0000ff;\" x=\"315.778178\" xlink:href=\"#mcffa5afda7\" y=\"68.653764\"/>\r\n     <use style=\"fill:#0000ff;stroke:#0000ff;\" x=\"334.537107\" xlink:href=\"#mcffa5afda7\" y=\"35.70831\"/>\r\n     <use style=\"fill:#0000ff;stroke:#0000ff;\" x=\"329.847375\" xlink:href=\"#mcffa5afda7\" y=\"19.235582\"/>\r\n     <use style=\"fill:#0000ff;stroke:#0000ff;\" x=\"318.123044\" xlink:href=\"#mcffa5afda7\" y=\"35.70831\"/>\r\n     <use style=\"fill:#0000ff;stroke:#0000ff;\" x=\"313.433311\" xlink:href=\"#mcffa5afda7\" y=\"68.653764\"/>\r\n     <use style=\"fill:#0000ff;stroke:#0000ff;\" x=\"318.123044\" xlink:href=\"#mcffa5afda7\" y=\"60.417401\"/>\r\n     <use style=\"fill:#0000ff;stroke:#0000ff;\" x=\"322.812776\" xlink:href=\"#mcffa5afda7\" y=\"35.70831\"/>\r\n     <use style=\"fill:#0000ff;stroke:#0000ff;\" x=\"315.778178\" xlink:href=\"#mcffa5afda7\" y=\"76.890128\"/>\r\n    </g>\r\n   </g>\r\n   <g id=\"patch_8\">\r\n    <path d=\"M 212.721307 226.791946 \r\nL 212.721307 9.351946 \r\n\" style=\"fill:none;stroke:#000000;stroke-linecap:square;stroke-linejoin:miter;stroke-width:0.8;\"/>\r\n   </g>\r\n   <g id=\"patch_9\">\r\n    <path d=\"M 364.903125 226.791946 \r\nL 364.903125 9.351946 \r\n\" style=\"fill:none;stroke:#000000;stroke-linecap:square;stroke-linejoin:miter;stroke-width:0.8;\"/>\r\n   </g>\r\n   <g id=\"patch_10\">\r\n    <path d=\"M 212.721307 226.791946 \r\nL 364.903125 226.791946 \r\n\" style=\"fill:none;stroke:#000000;stroke-linecap:square;stroke-linejoin:miter;stroke-width:0.8;\"/>\r\n   </g>\r\n   <g id=\"patch_11\">\r\n    <path d=\"M 212.721307 9.351946 \r\nL 364.903125 9.351946 \r\n\" style=\"fill:none;stroke:#000000;stroke-linecap:square;stroke-linejoin:miter;stroke-width:0.8;\"/>\r\n   </g>\r\n  </g>\r\n </g>\r\n <defs>\r\n  <clipPath id=\"p959994d1b4\">\r\n   <rect height=\"217.44\" width=\"152.181818\" x=\"30.103125\" y=\"9.351946\"/>\r\n  </clipPath>\r\n  <clipPath id=\"pd2c0650c11\">\r\n   <rect height=\"217.44\" width=\"152.181818\" x=\"212.721307\" y=\"9.351946\"/>\r\n  </clipPath>\r\n </defs>\r\n</svg>\r\n",
      "text/plain": "<Figure size 432x288 with 2 Axes>"
     },
     "metadata": {
      "needs_background": "light"
     },
     "output_type": "display_data"
    }
   ],
   "source": [
    "plt.subplot(121)\n",
    "plt.plot(df['SL'][df['target']==0], df['SW'][df['target']==0], 'ro')\n",
    "plt.plot(df['SL'][df['target']==1], df['SW'][df['target']==1], 'go')\n",
    "plt.plot(df['SL'][df['target']==2], df['SW'][df['target']==2], 'bo')\n",
    "\n",
    "plt.subplot(122)\n",
    "plt.plot(df['PL'][df['target']==0], df['PW'][df['target']==0], 'ro')\n",
    "plt.plot(df['PL'][df['target']==1], df['PW'][df['target']==1], 'go')\n",
    "plt.plot(df['PL'][df['target']==2], df['PW'][df['target']==2], 'bo')\n"
   ]
  },
  {
   "cell_type": "code",
   "execution_count": 12,
   "metadata": {},
   "outputs": [],
   "source": [
    "xtr, xts, ytr, yts = train_test_split(df[['SL','SW','PL','PW']], df['target'], test_size =.2)"
   ]
  },
  {
   "cell_type": "code",
   "execution_count": 14,
   "metadata": {},
   "outputs": [
    {
     "data": {
      "text/plain": "KNeighborsClassifier(algorithm='auto', leaf_size=30, metric='minkowski',\n                     metric_params=None, n_jobs=None, n_neighbors=5, p=2,\n                     weights='uniform')"
     },
     "execution_count": 14,
     "metadata": {},
     "output_type": "execute_result"
    }
   ],
   "source": [
    "knc = KNeighborsClassifier()\n",
    "knc.fit(xtr,ytr)\n",
    "# minkowski, p = 2 -> euclidean"
   ]
  },
  {
   "cell_type": "code",
   "execution_count": 15,
   "metadata": {},
   "outputs": [
    {
     "data": {
      "text/plain": "array([0, 2, 0, 1, 2, 1, 2, 2, 0, 1, 2, 0, 1, 2, 1, 1, 2, 1, 2, 1, 0, 0,\n       1, 0, 2, 0, 2, 1, 1, 0])"
     },
     "execution_count": 15,
     "metadata": {},
     "output_type": "execute_result"
    }
   ],
   "source": [
    "knc.predict(xts)"
   ]
  },
  {
   "cell_type": "code",
   "execution_count": 17,
   "metadata": {},
   "outputs": [
    {
     "data": {
      "text/plain": "array([0, 2, 0, 1, 2, 1, 2, 2, 0, 1, 2, 0, 1, 2, 1, 1, 1, 2, 2, 1, 0, 0,\n       1, 0, 1, 0, 2, 1, 1, 0])"
     },
     "execution_count": 17,
     "metadata": {},
     "output_type": "execute_result"
    }
   ],
   "source": [
    "np.array(yts.to_list())"
   ]
  },
  {
   "cell_type": "code",
   "execution_count": 21,
   "metadata": {},
   "outputs": [
    {
     "data": {
      "text/plain": "array([[1. , 0. , 0. ],\n       [0. , 0. , 1. ],\n       [1. , 0. , 0. ],\n       [0. , 1. , 0. ],\n       [0. , 0. , 1. ],\n       [0. , 1. , 0. ],\n       [0. , 0.2, 0.8],\n       [0. , 0.2, 0.8],\n       [1. , 0. , 0. ],\n       [0. , 1. , 0. ],\n       [0. , 0. , 1. ],\n       [1. , 0. , 0. ],\n       [0. , 1. , 0. ],\n       [0. , 0. , 1. ],\n       [0. , 1. , 0. ],\n       [0. , 0.6, 0.4],\n       [0. , 0. , 1. ],\n       [0. , 1. , 0. ],\n       [0. , 0. , 1. ],\n       [0. , 1. , 0. ],\n       [1. , 0. , 0. ],\n       [1. , 0. , 0. ],\n       [0. , 1. , 0. ],\n       [1. , 0. , 0. ],\n       [0. , 0.4, 0.6],\n       [1. , 0. , 0. ],\n       [0. , 0. , 1. ],\n       [0. , 1. , 0. ],\n       [0. , 1. , 0. ],\n       [1. , 0. , 0. ]])"
     },
     "execution_count": 21,
     "metadata": {},
     "output_type": "execute_result"
    }
   ],
   "source": [
    "np.array(knc.predict_proba(xts).tolist())"
   ]
  },
  {
   "cell_type": "code",
   "execution_count": 24,
   "metadata": {},
   "outputs": [
    {
     "data": {
      "text/plain": "NearestNeighbors(algorithm='auto', leaf_size=30, metric='minkowski',\n                 metric_params=None, n_jobs=None, n_neighbors=1, p=2,\n                 radius=1.0)"
     },
     "execution_count": 24,
     "metadata": {},
     "output_type": "execute_result"
    }
   ],
   "source": [
    "#n_neighbors berapa data terdekat\n",
    "nn = NearestNeighbors(n_neighbors=1)\n",
    "nn.fit(xtr)"
   ]
  },
  {
   "cell_type": "code",
   "execution_count": 30,
   "metadata": {},
   "outputs": [
    {
     "data": {
      "text/plain": "SL    4.5\nSW    2.3\nPL    1.3\nPW    0.3\nName: 41, dtype: float64"
     },
     "execution_count": 30,
     "metadata": {},
     "output_type": "execute_result"
    }
   ],
   "source": [
    "nn.kneighbors([xts.iloc[0]])"
   ]
  },
  {
   "cell_type": "code",
   "execution_count": 28,
   "metadata": {},
   "outputs": [
    {
     "data": {
      "text/plain": "SL    4.9\nSW    3.1\nPL    1.5\nPW    0.2\nName: 34, dtype: float64"
     },
     "execution_count": 28,
     "metadata": {},
     "output_type": "execute_result"
    }
   ],
   "source": [
    "xts.iloc[0]"
   ]
  },
  {
   "cell_type": "code",
   "execution_count": 27,
   "metadata": {},
   "outputs": [
    {
     "data": {
      "text/plain": "SL    4.9\nSW    3.1\nPL    1.5\nPW    0.1\nName: 9, dtype: float64"
     },
     "execution_count": 27,
     "metadata": {},
     "output_type": "execute_result"
    }
   ],
   "source": [
    "#Urutan data ke-43\n",
    "xtr.iloc[43]"
   ]
  },
  {
   "cell_type": "code",
   "execution_count": null,
   "metadata": {},
   "outputs": [],
   "source": [
    "# nn.kneighbors([[0,0,0,0]])\n",
    "# xtr.iloc[100]\n",
    "melihat objek di titik2 tertentu"
   ]
  },
  {
   "cell_type": "markdown",
   "execution_count": null,
   "metadata": {},
   "outputs": [],
   "source": [
    "### Mencari K Value\n",
    "Lebih baik ganjil\n",
    "- 1. sqrt(n): akar dari total data point untuk trainning\n",
    "- 2. pilih nilai ganjil"
   ]
  },
  {
   "cell_type": "code",
   "execution_count": 31,
   "metadata": {},
   "outputs": [
    {
     "data": {
      "text/plain": "11"
     },
     "execution_count": 31,
     "metadata": {},
     "output_type": "execute_result"
    }
   ],
   "source": [
    "k_val = round(len(xtr)** .5)\n",
    "k_val"
   ]
  },
  {
   "cell_type": "code",
   "execution_count": 32,
   "metadata": {},
   "outputs": [
    {
     "data": {
      "text/plain": "KNeighborsClassifier(algorithm='auto', leaf_size=30, metric='minkowski',\n                     metric_params=None, n_jobs=None, n_neighbors=11, p=2,\n                     weights='uniform')"
     },
     "execution_count": 32,
     "metadata": {},
     "output_type": "execute_result"
    }
   ],
   "source": [
    "knc2 = KNeighborsClassifier(n_neighbors=11)\n",
    "knc2.fit(xtr, ytr)"
   ]
  },
  {
   "cell_type": "code",
   "execution_count": 33,
   "metadata": {},
   "outputs": [
    {
     "data": {
      "text/plain": "array([0, 2, 0, 1, 2, 1, 2, 2, 0, 1, 2, 0, 1, 2, 1, 1, 2, 1, 2, 1, 0, 0,\n       1, 0, 1, 0, 2, 1, 1, 0])"
     },
     "execution_count": 33,
     "metadata": {},
     "output_type": "execute_result"
    }
   ],
   "source": [
    "knc2.predict(xts)"
   ]
  },
  {
   "cell_type": "code",
   "execution_count": 34,
   "metadata": {},
   "outputs": [
    {
     "data": {
      "text/plain": "array([0, 2, 0, 1, 2, 1, 2, 2, 0, 1, 2, 0, 1, 2, 1, 1, 1, 2, 2, 1, 0, 0,\n       1, 0, 1, 0, 2, 1, 1, 0])"
     },
     "execution_count": 34,
     "metadata": {},
     "output_type": "execute_result"
    }
   ],
   "source": [
    "np.array(yts.to_list())"
   ]
  },
  {
   "cell_type": "code",
   "execution_count": 35,
   "metadata": {},
   "outputs": [
    {
     "data": {
      "text/plain": "0.9"
     },
     "execution_count": 35,
     "metadata": {},
     "output_type": "execute_result"
    }
   ],
   "source": [
    "knc.score(xts,yts)"
   ]
  },
  {
   "cell_type": "code",
   "execution_count": 36,
   "metadata": {},
   "outputs": [
    {
     "data": {
      "text/plain": "0.9333333333333333"
     },
     "execution_count": 36,
     "metadata": {},
     "output_type": "execute_result"
    }
   ],
   "source": [
    "knc2.score(xts,yts)"
   ]
  },
  {
   "cell_type": "code",
   "execution_count": 37,
   "metadata": {},
   "outputs": [
    {
     "name": "stdout",
     "output_type": "stream",
     "text": "[0]\n[0]\n"
    }
   ],
   "source": [
    "print(knc.predict([[4.6, 2, 0.2, 1]]))\n",
    "print(knc2.predict([[4.6, 2, 0.2, 1]]))"
   ]
  },
  {
   "cell_type": "code",
   "execution_count": 44,
   "metadata": {},
   "outputs": [
    {
     "name": "stdout",
     "output_type": "stream",
     "text": "precision    recall  f1-score   support\n\n           0       1.00      1.00      1.00         9\n           1       0.91      0.83      0.87        12\n           2       0.80      0.89      0.84         9\n\n    accuracy                           0.90        30\n   macro avg       0.90      0.91      0.90        30\nweighted avg       0.90      0.90      0.90        30\n\n"
    }
   ],
   "source": [
    "print(classification_report(yts, knc.predict(xts)))"
   ]
  },
  {
   "cell_type": "code",
   "execution_count": 45,
   "metadata": {},
   "outputs": [
    {
     "name": "stdout",
     "output_type": "stream",
     "text": "precision    recall  f1-score   support\n\n           0       1.00      1.00      1.00         9\n           1       0.92      0.92      0.92        12\n           2       0.89      0.89      0.89         9\n\n    accuracy                           0.93        30\n   macro avg       0.94      0.94      0.94        30\nweighted avg       0.93      0.93      0.93        30\n\n"
    }
   ],
   "source": [
    "print(classification_report(yts, knc2.predict(xts)))"
   ]
  },
  {
   "cell_type": "code",
   "execution_count": null,
   "metadata": {},
   "outputs": [],
   "source": []
  }
 ]
}